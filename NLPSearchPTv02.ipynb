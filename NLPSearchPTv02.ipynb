{
  "nbformat": 4,
  "nbformat_minor": 0,
  "metadata": {
    "colab": {
      "name": "NLPSearchPTv02.ipynb",
      "provenance": [],
      "collapsed_sections": [],
      "authorship_tag": "ABX9TyNzsqEkajH2F92cyXNHX3UB",
      "include_colab_link": true
    },
    "kernelspec": {
      "name": "python3",
      "display_name": "Python 3"
    }
  },
  "cells": [
    {
      "cell_type": "markdown",
      "metadata": {
        "id": "view-in-github",
        "colab_type": "text"
      },
      "source": [
        "<a href=\"https://colab.research.google.com/github/JosepCristobal/NLPSearchPT/blob/master/NLPSearchPTv02.ipynb\" target=\"_parent\"><img src=\"https://colab.research.google.com/assets/colab-badge.svg\" alt=\"Open In Colab\"/></a>"
      ]
    },
    {
      "cell_type": "code",
      "metadata": {
        "id": "aVC8rFYwL4Kr",
        "colab_type": "code",
        "colab": {
          "base_uri": "https://localhost:8080/",
          "height": 331
        },
        "outputId": "0dfdeda9-475a-4a5c-e456-2a334c9e38ff"
      },
      "source": [
        "!pip install gensim"
      ],
      "execution_count": 70,
      "outputs": [
        {
          "output_type": "stream",
          "text": [
            "Requirement already satisfied: gensim in /usr/local/lib/python3.6/dist-packages (3.6.0)\n",
            "Requirement already satisfied: six>=1.5.0 in /usr/local/lib/python3.6/dist-packages (from gensim) (1.12.0)\n",
            "Requirement already satisfied: smart-open>=1.2.1 in /usr/local/lib/python3.6/dist-packages (from gensim) (1.9.0)\n",
            "Requirement already satisfied: numpy>=1.11.3 in /usr/local/lib/python3.6/dist-packages (from gensim) (1.17.5)\n",
            "Requirement already satisfied: scipy>=0.18.1 in /usr/local/lib/python3.6/dist-packages (from gensim) (1.4.1)\n",
            "Requirement already satisfied: boto>=2.32 in /usr/local/lib/python3.6/dist-packages (from smart-open>=1.2.1->gensim) (2.49.0)\n",
            "Requirement already satisfied: requests in /usr/local/lib/python3.6/dist-packages (from smart-open>=1.2.1->gensim) (2.21.0)\n",
            "Requirement already satisfied: boto3 in /usr/local/lib/python3.6/dist-packages (from smart-open>=1.2.1->gensim) (1.11.15)\n",
            "Requirement already satisfied: chardet<3.1.0,>=3.0.2 in /usr/local/lib/python3.6/dist-packages (from requests->smart-open>=1.2.1->gensim) (3.0.4)\n",
            "Requirement already satisfied: certifi>=2017.4.17 in /usr/local/lib/python3.6/dist-packages (from requests->smart-open>=1.2.1->gensim) (2019.11.28)\n",
            "Requirement already satisfied: urllib3<1.25,>=1.21.1 in /usr/local/lib/python3.6/dist-packages (from requests->smart-open>=1.2.1->gensim) (1.24.3)\n",
            "Requirement already satisfied: idna<2.9,>=2.5 in /usr/local/lib/python3.6/dist-packages (from requests->smart-open>=1.2.1->gensim) (2.8)\n",
            "Requirement already satisfied: s3transfer<0.4.0,>=0.3.0 in /usr/local/lib/python3.6/dist-packages (from boto3->smart-open>=1.2.1->gensim) (0.3.3)\n",
            "Requirement already satisfied: jmespath<1.0.0,>=0.7.1 in /usr/local/lib/python3.6/dist-packages (from boto3->smart-open>=1.2.1->gensim) (0.9.4)\n",
            "Requirement already satisfied: botocore<1.15.0,>=1.14.15 in /usr/local/lib/python3.6/dist-packages (from boto3->smart-open>=1.2.1->gensim) (1.14.15)\n",
            "Requirement already satisfied: python-dateutil<3.0.0,>=2.1 in /usr/local/lib/python3.6/dist-packages (from botocore<1.15.0,>=1.14.15->boto3->smart-open>=1.2.1->gensim) (2.6.1)\n",
            "Requirement already satisfied: docutils<0.16,>=0.10 in /usr/local/lib/python3.6/dist-packages (from botocore<1.15.0,>=1.14.15->boto3->smart-open>=1.2.1->gensim) (0.15.2)\n"
          ],
          "name": "stdout"
        }
      ]
    },
    {
      "cell_type": "code",
      "metadata": {
        "id": "UukCSPToM3nv",
        "colab_type": "code",
        "colab": {
          "base_uri": "https://localhost:8080/",
          "height": 35
        },
        "outputId": "986f4f3e-02b4-412d-ad54-b08b8576d253"
      },
      "source": [
        "!pip install stop_words"
      ],
      "execution_count": 71,
      "outputs": [
        {
          "output_type": "stream",
          "text": [
            "Requirement already satisfied: stop_words in /usr/local/lib/python3.6/dist-packages (2018.7.23)\n"
          ],
          "name": "stdout"
        }
      ]
    },
    {
      "cell_type": "code",
      "metadata": {
        "id": "c4xf4wpANBCc",
        "colab_type": "code",
        "colab": {
          "base_uri": "https://localhost:8080/",
          "height": 728
        },
        "outputId": "6c58a81f-7ee0-42db-85b1-e379fceb6cc8"
      },
      "source": [
        "!pip install pyLDAvis\n",
        "!pip install spacy\n",
        "!python -m spacy download en_core_web_sm"
      ],
      "execution_count": 72,
      "outputs": [
        {
          "output_type": "stream",
          "text": [
            "Requirement already satisfied: pyLDAvis in /usr/local/lib/python3.6/dist-packages (2.1.2)\n",
            "Requirement already satisfied: future in /usr/local/lib/python3.6/dist-packages (from pyLDAvis) (0.16.0)\n",
            "Requirement already satisfied: numpy>=1.9.2 in /usr/local/lib/python3.6/dist-packages (from pyLDAvis) (1.17.5)\n",
            "Requirement already satisfied: joblib>=0.8.4 in /usr/local/lib/python3.6/dist-packages (from pyLDAvis) (0.14.1)\n",
            "Requirement already satisfied: funcy in /usr/local/lib/python3.6/dist-packages (from pyLDAvis) (1.14)\n",
            "Requirement already satisfied: scipy>=0.18.0 in /usr/local/lib/python3.6/dist-packages (from pyLDAvis) (1.4.1)\n",
            "Requirement already satisfied: wheel>=0.23.0 in /usr/local/lib/python3.6/dist-packages (from pyLDAvis) (0.34.2)\n",
            "Requirement already satisfied: pandas>=0.17.0 in /usr/local/lib/python3.6/dist-packages (from pyLDAvis) (0.25.3)\n",
            "Requirement already satisfied: numexpr in /usr/local/lib/python3.6/dist-packages (from pyLDAvis) (2.7.1)\n",
            "Requirement already satisfied: pytest in /usr/local/lib/python3.6/dist-packages (from pyLDAvis) (3.6.4)\n",
            "Requirement already satisfied: jinja2>=2.7.2 in /usr/local/lib/python3.6/dist-packages (from pyLDAvis) (2.11.1)\n",
            "Requirement already satisfied: pytz>=2017.2 in /usr/local/lib/python3.6/dist-packages (from pandas>=0.17.0->pyLDAvis) (2018.9)\n",
            "Requirement already satisfied: python-dateutil>=2.6.1 in /usr/local/lib/python3.6/dist-packages (from pandas>=0.17.0->pyLDAvis) (2.6.1)\n",
            "Requirement already satisfied: pluggy<0.8,>=0.5 in /usr/local/lib/python3.6/dist-packages (from pytest->pyLDAvis) (0.7.1)\n",
            "Requirement already satisfied: attrs>=17.4.0 in /usr/local/lib/python3.6/dist-packages (from pytest->pyLDAvis) (19.3.0)\n",
            "Requirement already satisfied: atomicwrites>=1.0 in /usr/local/lib/python3.6/dist-packages (from pytest->pyLDAvis) (1.3.0)\n",
            "Requirement already satisfied: py>=1.5.0 in /usr/local/lib/python3.6/dist-packages (from pytest->pyLDAvis) (1.8.1)\n",
            "Requirement already satisfied: setuptools in /usr/local/lib/python3.6/dist-packages (from pytest->pyLDAvis) (45.1.0)\n",
            "Requirement already satisfied: six>=1.10.0 in /usr/local/lib/python3.6/dist-packages (from pytest->pyLDAvis) (1.12.0)\n",
            "Requirement already satisfied: more-itertools>=4.0.0 in /usr/local/lib/python3.6/dist-packages (from pytest->pyLDAvis) (8.2.0)\n",
            "Requirement already satisfied: MarkupSafe>=0.23 in /usr/local/lib/python3.6/dist-packages (from jinja2>=2.7.2->pyLDAvis) (1.1.1)\n",
            "Requirement already satisfied: spacy in /usr/local/lib/python3.6/dist-packages (2.1.9)\n",
            "Requirement already satisfied: blis<0.3.0,>=0.2.2 in /usr/local/lib/python3.6/dist-packages (from spacy) (0.2.4)\n",
            "Requirement already satisfied: plac<1.0.0,>=0.9.6 in /usr/local/lib/python3.6/dist-packages (from spacy) (0.9.6)\n",
            "Requirement already satisfied: cymem<2.1.0,>=2.0.2 in /usr/local/lib/python3.6/dist-packages (from spacy) (2.0.3)\n",
            "Requirement already satisfied: murmurhash<1.1.0,>=0.28.0 in /usr/local/lib/python3.6/dist-packages (from spacy) (1.0.2)\n",
            "Requirement already satisfied: numpy>=1.15.0 in /usr/local/lib/python3.6/dist-packages (from spacy) (1.17.5)\n",
            "Requirement already satisfied: thinc<7.1.0,>=7.0.8 in /usr/local/lib/python3.6/dist-packages (from spacy) (7.0.8)\n",
            "Requirement already satisfied: wasabi<1.1.0,>=0.2.0 in /usr/local/lib/python3.6/dist-packages (from spacy) (0.6.0)\n",
            "Requirement already satisfied: preshed<2.1.0,>=2.0.1 in /usr/local/lib/python3.6/dist-packages (from spacy) (2.0.1)\n",
            "Requirement already satisfied: srsly<1.1.0,>=0.0.6 in /usr/local/lib/python3.6/dist-packages (from spacy) (1.0.1)\n",
            "Requirement already satisfied: requests<3.0.0,>=2.13.0 in /usr/local/lib/python3.6/dist-packages (from spacy) (2.21.0)\n",
            "Requirement already satisfied: tqdm<5.0.0,>=4.10.0 in /usr/local/lib/python3.6/dist-packages (from thinc<7.1.0,>=7.0.8->spacy) (4.28.1)\n",
            "Requirement already satisfied: certifi>=2017.4.17 in /usr/local/lib/python3.6/dist-packages (from requests<3.0.0,>=2.13.0->spacy) (2019.11.28)\n",
            "Requirement already satisfied: idna<2.9,>=2.5 in /usr/local/lib/python3.6/dist-packages (from requests<3.0.0,>=2.13.0->spacy) (2.8)\n",
            "Requirement already satisfied: urllib3<1.25,>=1.21.1 in /usr/local/lib/python3.6/dist-packages (from requests<3.0.0,>=2.13.0->spacy) (1.24.3)\n",
            "Requirement already satisfied: chardet<3.1.0,>=3.0.2 in /usr/local/lib/python3.6/dist-packages (from requests<3.0.0,>=2.13.0->spacy) (3.0.4)\n",
            "Requirement already satisfied: en_core_web_sm==2.1.0 from https://github.com/explosion/spacy-models/releases/download/en_core_web_sm-2.1.0/en_core_web_sm-2.1.0.tar.gz#egg=en_core_web_sm==2.1.0 in /usr/local/lib/python3.6/dist-packages (2.1.0)\n",
            "\u001b[38;5;2m✔ Download and installation successful\u001b[0m\n",
            "You can now load the model via spacy.load('en_core_web_sm')\n"
          ],
          "name": "stdout"
        }
      ]
    },
    {
      "cell_type": "markdown",
      "metadata": {
        "id": "0NbIeGB3MDPi",
        "colab_type": "text"
      },
      "source": [
        "#2. Hacer Analysis de los tweets del segundo dataset. Que temas aparecen? Como se representan estos temas? De que hablan unos y otros?"
      ]
    },
    {
      "cell_type": "markdown",
      "metadata": {
        "id": "StuQYovQibRJ",
        "colab_type": "text"
      },
      "source": [
        "Procedemos a los imports y las instalaciones necesarias"
      ]
    },
    {
      "cell_type": "code",
      "metadata": {
        "id": "pfs7NPYiMtLI",
        "colab_type": "code",
        "colab": {}
      },
      "source": [
        "import gensim\n",
        "from os.path import join\n",
        "import csv\n",
        "import spacy\n",
        "from stop_words import get_stop_words\n",
        "from string import punctuation\n",
        "import re\n",
        "import numpy as np\n",
        "import pyLDAvis.gensim\n",
        "import matplotlib.pyplot as plt\n",
        "import pandas as pd\n",
        "import io\n",
        "from google.colab import files\n",
        "\n",
        "import warnings\n",
        "warnings.filterwarnings('ignore')"
      ],
      "execution_count": 0,
      "outputs": []
    },
    {
      "cell_type": "code",
      "metadata": {
        "id": "nWERT4xQNURd",
        "colab_type": "code",
        "colab": {}
      },
      "source": [
        "stop_words = get_stop_words('en') + list(punctuation) + [' ']\n",
        "nlp = spacy.load('en_core_web_sm')"
      ],
      "execution_count": 0,
      "outputs": []
    },
    {
      "cell_type": "code",
      "metadata": {
        "id": "mVYTiQMaMGFd",
        "colab_type": "code",
        "colab": {}
      },
      "source": [
        "import json"
      ],
      "execution_count": 0,
      "outputs": []
    },
    {
      "cell_type": "code",
      "metadata": {
        "id": "qDHsQb2NMLrL",
        "colab_type": "code",
        "outputId": "b517f857-55dc-4734-f7be-5055be199cc9",
        "colab": {
          "resources": {
            "http://localhost:8080/nbextensions/google.colab/files.js": {
              "data": "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",
              "ok": true,
              "headers": [
                [
                  "content-type",
                  "application/javascript"
                ]
              ],
              "status": 200,
              "status_text": ""
            }
          },
          "base_uri": "https://localhost:8080/",
          "height": 89
        }
      },
      "source": [
        "#Cargamos nuestro dataset desde nuestro diretorio local a través de la selección de fichero en cuadro de dialogo.\n",
        "from google.colab import files\n",
        "uploaded = files.upload()\n",
        "\n",
        "for fn in uploaded.keys():\n",
        "  print('User uploaded file \"{name}\" with length {length} bytes'.format(\n",
        "      name=fn, length=len(uploaded[fn])))"
      ],
      "execution_count": 77,
      "outputs": [
        {
          "output_type": "display_data",
          "data": {
            "text/html": [
              "\n",
              "     <input type=\"file\" id=\"files-fbcf76e1-e109-4dd2-9c7f-d7fb57872461\" name=\"files[]\" multiple disabled />\n",
              "     <output id=\"result-fbcf76e1-e109-4dd2-9c7f-d7fb57872461\">\n",
              "      Upload widget is only available when the cell has been executed in the\n",
              "      current browser session. Please rerun this cell to enable.\n",
              "      </output>\n",
              "      <script src=\"/nbextensions/google.colab/files.js\"></script> "
            ],
            "text/plain": [
              "<IPython.core.display.HTML object>"
            ]
          },
          "metadata": {
            "tags": []
          }
        },
        {
          "output_type": "stream",
          "text": [
            "Saving BarackObama.json to BarackObama (2).json\n",
            "User uploaded file \"BarackObama.json\" with length 373852 bytes\n"
          ],
          "name": "stdout"
        }
      ]
    },
    {
      "cell_type": "code",
      "metadata": {
        "id": "LgVfmvneMP4D",
        "colab_type": "code",
        "outputId": "f9176d75-9319-428d-f5f3-c526223eb885",
        "colab": {
          "base_uri": "https://localhost:8080/",
          "height": 55
        }
      },
      "source": [
        "#En este caso, cargaremos un fichero en formato json\n",
        "ob_names = uploaded['BarackObama.json']\n",
        "ob_names = json.loads(ob_names)\n",
        "ob_names['10']"
      ],
      "execution_count": 105,
      "outputs": [
        {
          "output_type": "execute_result",
          "data": {
            "text/plain": [
              "'Michelle and I are so inspired by all the young people who made today’s marches happen. Keep at it. You’re leading us forward. Nothing can stand in the way of millions of voices calling for change.'"
            ]
          },
          "metadata": {
            "tags": []
          },
          "execution_count": 105
        }
      ]
    },
    {
      "cell_type": "code",
      "metadata": {
        "id": "PzFmD5iSPpOc",
        "colab_type": "code",
        "colab": {}
      },
      "source": [
        "df=pd.DataFrame(ob_names.items())"
      ],
      "execution_count": 0,
      "outputs": []
    },
    {
      "cell_type": "code",
      "metadata": {
        "id": "8GYHqlUYXORn",
        "colab_type": "code",
        "outputId": "8a33baaf-f629-4482-8aa4-197e56726d04",
        "colab": {
          "base_uri": "https://localhost:8080/",
          "height": 138
        }
      },
      "source": [
        "df.head(3)"
      ],
      "execution_count": 107,
      "outputs": [
        {
          "output_type": "execute_result",
          "data": {
            "text/html": [
              "<div>\n",
              "<style scoped>\n",
              "    .dataframe tbody tr th:only-of-type {\n",
              "        vertical-align: middle;\n",
              "    }\n",
              "\n",
              "    .dataframe tbody tr th {\n",
              "        vertical-align: top;\n",
              "    }\n",
              "\n",
              "    .dataframe thead th {\n",
              "        text-align: right;\n",
              "    }\n",
              "</style>\n",
              "<table border=\"1\" class=\"dataframe\">\n",
              "  <thead>\n",
              "    <tr style=\"text-align: right;\">\n",
              "      <th></th>\n",
              "      <th>0</th>\n",
              "      <th>1</th>\n",
              "    </tr>\n",
              "  </thead>\n",
              "  <tbody>\n",
              "    <tr>\n",
              "      <th>0</th>\n",
              "      <td>0</td>\n",
              "      <td>“Low plastic stool, cheap but delicious noodle...</td>\n",
              "    </tr>\n",
              "    <tr>\n",
              "      <th>1</th>\n",
              "      <td>1</td>\n",
              "      <td>“Low plastic stool, cheap but delicious noodle...</td>\n",
              "    </tr>\n",
              "    <tr>\n",
              "      <th>2</th>\n",
              "      <td>2</td>\n",
              "      <td>This National Gun Violence Awareness Day, show...</td>\n",
              "    </tr>\n",
              "  </tbody>\n",
              "</table>\n",
              "</div>"
            ],
            "text/plain": [
              "   0                                                  1\n",
              "0  0  “Low plastic stool, cheap but delicious noodle...\n",
              "1  1  “Low plastic stool, cheap but delicious noodle...\n",
              "2  2  This National Gun Violence Awareness Day, show..."
            ]
          },
          "metadata": {
            "tags": []
          },
          "execution_count": 107
        }
      ]
    },
    {
      "cell_type": "code",
      "metadata": {
        "id": "HeBHmKltjfR2",
        "colab_type": "code",
        "colab": {
          "base_uri": "https://localhost:8080/",
          "height": 138
        },
        "outputId": "1c7f2de4-0aaf-4a3b-ff04-967880b95081"
      },
      "source": [
        "#MAS LIMPIEZA\n",
        "df[1] = df[1].str.strip()\n",
        "df.head(3)"
      ],
      "execution_count": 108,
      "outputs": [
        {
          "output_type": "execute_result",
          "data": {
            "text/html": [
              "<div>\n",
              "<style scoped>\n",
              "    .dataframe tbody tr th:only-of-type {\n",
              "        vertical-align: middle;\n",
              "    }\n",
              "\n",
              "    .dataframe tbody tr th {\n",
              "        vertical-align: top;\n",
              "    }\n",
              "\n",
              "    .dataframe thead th {\n",
              "        text-align: right;\n",
              "    }\n",
              "</style>\n",
              "<table border=\"1\" class=\"dataframe\">\n",
              "  <thead>\n",
              "    <tr style=\"text-align: right;\">\n",
              "      <th></th>\n",
              "      <th>0</th>\n",
              "      <th>1</th>\n",
              "    </tr>\n",
              "  </thead>\n",
              "  <tbody>\n",
              "    <tr>\n",
              "      <th>0</th>\n",
              "      <td>0</td>\n",
              "      <td>“Low plastic stool, cheap but delicious noodle...</td>\n",
              "    </tr>\n",
              "    <tr>\n",
              "      <th>1</th>\n",
              "      <td>1</td>\n",
              "      <td>“Low plastic stool, cheap but delicious noodle...</td>\n",
              "    </tr>\n",
              "    <tr>\n",
              "      <th>2</th>\n",
              "      <td>2</td>\n",
              "      <td>This National Gun Violence Awareness Day, show...</td>\n",
              "    </tr>\n",
              "  </tbody>\n",
              "</table>\n",
              "</div>"
            ],
            "text/plain": [
              "   0                                                  1\n",
              "0  0  “Low plastic stool, cheap but delicious noodle...\n",
              "1  1  “Low plastic stool, cheap but delicious noodle...\n",
              "2  2  This National Gun Violence Awareness Day, show..."
            ]
          },
          "metadata": {
            "tags": []
          },
          "execution_count": 108
        }
      ]
    },
    {
      "cell_type": "code",
      "metadata": {
        "id": "Xboe4XeUjx_V",
        "colab_type": "code",
        "colab": {}
      },
      "source": [
        "df.dropna(subset=[1],inplace=True)\n",
        "#df.head(3)"
      ],
      "execution_count": 0,
      "outputs": []
    },
    {
      "cell_type": "code",
      "metadata": {
        "id": "kuG9CTZRj3_T",
        "colab_type": "code",
        "colab": {}
      },
      "source": [
        "#Montaremos una serie de filtros para terminar de limpiar nuestros datos\n",
        "import re\n",
        "import string\n",
        "#Utilizamos regex para limpiar nuestro dataset de carácteres especiales, signos de puntuación , etc. \n",
        "def clean_text_round1(text):\n",
        "    #Transformamos las palabras en minusculas, eliminamos los corchete, eliminamos signos de puntuación y palabras con números.\n",
        "    text = text.lower()\n",
        "    text = re.sub('\\[.*?¿\\]\\%', ' ', text)\n",
        "    text = re.sub('[%s]' % re.escape(string.punctuation), ' ', text)\n",
        "    text = re.sub('\\w*\\d\\w*', '', text)\n",
        "    #Eliminamos signos de puntuación adicionales que en la primera vuelta no fueron tratados\n",
        "    text = re.sub('[‘’“”…«»]', '', text)\n",
        "    text = re.sub('\\n', ' ', text)\n",
        "\n",
        "    return text\n",
        " \n"
      ],
      "execution_count": 0,
      "outputs": []
    },
    {
      "cell_type": "code",
      "metadata": {
        "id": "XgVdRFwrkdRO",
        "colab_type": "code",
        "colab": {
          "base_uri": "https://localhost:8080/",
          "height": 69
        },
        "outputId": "ed67e3d0-9167-43c2-9d26-743063ae44b6"
      },
      "source": [
        "df.isnull().any()"
      ],
      "execution_count": 111,
      "outputs": [
        {
          "output_type": "execute_result",
          "data": {
            "text/plain": [
              "0    False\n",
              "1    False\n",
              "dtype: bool"
            ]
          },
          "metadata": {
            "tags": []
          },
          "execution_count": 111
        }
      ]
    },
    {
      "cell_type": "code",
      "metadata": {
        "id": "2HUhcq5YN8jV",
        "colab_type": "code",
        "colab": {}
      },
      "source": [
        "#Limpiamos datos \n",
        "#Para la limpieza, invocamos la función creada para ello.\n",
        "#También aplicamos un filtro utilizando stop words\n",
        "#get data\n",
        "documents = []\n",
        "for row in df.iterrows():\n",
        "    _, info = row\n",
        "    _, q = info\n",
        "    q = re.sub(r'\\n','', q)\n",
        "    q = clean_text_round1(q)\n",
        "    q = [t.text for t in nlp(q.rstrip(), disable=['parser', 'tagger', 'ner']) if t.text not in stop_words]\n",
        "\n",
        "    documents.append(q)\n",
        "    \n",
        "  "
      ],
      "execution_count": 0,
      "outputs": []
    },
    {
      "cell_type": "code",
      "metadata": {
        "id": "v-sbNXOYpxxE",
        "colab_type": "code",
        "colab": {}
      },
      "source": [
        "#Limpiamos datos \n",
        "#Para la limpieza, invocamos la función creada para ello.\n",
        "#También aplicamos un filtro utilizando stop words\n",
        "#get data\n",
        "#from stop_words import get_stop_words\n",
        "##pkg_stop_words = get_stop_words('en')\n",
        "\n",
        "#documents = []\n",
        "#for index, row in df.iterrows():\n",
        "    #if index > 0:\n",
        "        #sentence = clean_text_round1(row[1])\n",
        "        #sentence_result=' '.join([word for word in sentence.split() if word not in pkg_stop_words])\n",
        "        #documents.append(sentence_result)\n",
        "\n",
        "#len(documents), documents[0]"
      ],
      "execution_count": 0,
      "outputs": []
    },
    {
      "cell_type": "code",
      "metadata": {
        "id": "vsOMMUCxZkvg",
        "colab_type": "code",
        "outputId": "45a26777-5b65-40ba-b040-c0fb1a0c8167",
        "colab": {
          "base_uri": "https://localhost:8080/",
          "height": 35
        }
      },
      "source": [
        "#dictionary building manually as always\n",
        "vocab = set([t for doc in documents for t in doc])\n",
        "w2id = {k:i for  i,k in enumerate(vocab)}\n",
        "id2w = {i:k for k, i in w2id.items()}\n",
        "print('{} unique tokens'.format(len(w2id)))"
      ],
      "execution_count": 114,
      "outputs": [
        {
          "output_type": "stream",
          "text": [
            "4174 unique tokens\n"
          ],
          "name": "stdout"
        }
      ]
    },
    {
      "cell_type": "code",
      "metadata": {
        "id": "1ShZNGMVZ8g3",
        "colab_type": "code",
        "colab": {}
      },
      "source": [
        "from gensim.corpora import Dictionary"
      ],
      "execution_count": 0,
      "outputs": []
    },
    {
      "cell_type": "code",
      "metadata": {
        "id": "SOdgPwNlaCDB",
        "colab_type": "code",
        "outputId": "f59e08ee-2e9d-43a1-b3f6-d7cc59f900a4",
        "colab": {
          "base_uri": "https://localhost:8080/",
          "height": 35
        }
      },
      "source": [
        "gensim_dict = Dictionary(documents)\n",
        "len(gensim_dict)"
      ],
      "execution_count": 116,
      "outputs": [
        {
          "output_type": "execute_result",
          "data": {
            "text/plain": [
              "4174"
            ]
          },
          "metadata": {
            "tags": []
          },
          "execution_count": 116
        }
      ]
    },
    {
      "cell_type": "code",
      "metadata": {
        "id": "sZhOIwKpaNJg",
        "colab_type": "code",
        "colab": {}
      },
      "source": [
        "corpus = [gensim_dict.doc2bow(doc) for doc in documents]"
      ],
      "execution_count": 0,
      "outputs": []
    },
    {
      "cell_type": "markdown",
      "metadata": {
        "id": "5nKJQ9SqaTkq",
        "colab_type": "text"
      },
      "source": [
        "Implementación usando Gensim"
      ]
    },
    {
      "cell_type": "code",
      "metadata": {
        "id": "d-OZuWJmaUji",
        "colab_type": "code",
        "colab": {}
      },
      "source": [
        "from gensim import corpora, models, similarities\n",
        "from math import exp"
      ],
      "execution_count": 0,
      "outputs": []
    },
    {
      "cell_type": "code",
      "metadata": {
        "id": "r66Mw9draedi",
        "colab_type": "code",
        "colab": {}
      },
      "source": [
        "#Número aleatorio. Empezamos con 50\n",
        "k = 10\n",
        "\n",
        "lda_model = models.LdaModel(corpus, id2word=gensim_dict, num_topics=k, iterations=5, passes=20, alpha='auto')"
      ],
      "execution_count": 0,
      "outputs": []
    },
    {
      "cell_type": "code",
      "metadata": {
        "id": "xD3faGEjalJw",
        "colab_type": "code",
        "outputId": "ed2513ca-9d15-41c5-bda0-7bc7e844f8e3",
        "colab": {
          "base_uri": "https://localhost:8080/",
          "height": 383
        }
      },
      "source": [
        "lda_model.show_topics()"
      ],
      "execution_count": 128,
      "outputs": [
        {
          "output_type": "execute_result",
          "data": {
            "text/plain": [
              "[(0,\n",
              "  '0.200*\"  \" + 0.155*\"t\" + 0.145*\"co\" + 0.104*\"http\" + 0.040*\"s\" + 0.019*\"—\" + 0.011*\"today\" + 0.011*\"now\" + 0.010*\"time\" + 0.008*\"getcovered\"'),\n",
              " (1,\n",
              "  '0.038*\"  \" + 0.031*\"years\" + 0.029*\"jobs\" + 0.020*\"job\" + 0.020*\"economy\" + 0.017*\"record\" + 0.015*\"since\" + 0.014*\"year\" + 0.013*\"months\" + 0.013*\"million\"'),\n",
              " (2,\n",
              "  '0.051*\"make\" + 0.027*\"sure\" + 0.026*\"day\" + 0.022*\"sign\" + 0.022*\"  \" + 0.020*\"coverage\" + 0.020*\"right\" + 0.016*\"help\" + 0.013*\"new\" + 0.013*\"t\"'),\n",
              " (3,\n",
              "  '0.074*\"health\" + 0.053*\"care\" + 0.036*\"obamacare\" + 0.034*\"americans\" + 0.020*\"  \" + 0.019*\"join\" + 0.019*\"millions\" + 0.018*\"team\" + 0.016*\"affordable\" + 0.016*\"insurance\"'),\n",
              " (4,\n",
              "  '0.109*\"president\" + 0.075*\"obama\" + 0.060*\"  \" + 0.042*\"co\" + 0.040*\"t\" + 0.038*\"http\" + 0.037*\"watch\" + 0.024*\"live\" + 0.019*\"address\" + 0.016*\"tune\"'),\n",
              " (5,\n",
              "  '0.106*\"obama\" + 0.097*\"—president\" + 0.062*\"  \" + 0.024*\"america\" + 0.020*\"sotu\" + 0.015*\"work\" + 0.013*\"us\" + 0.012*\"american\" + 0.011*\"ve\" + 0.010*\"can\"'),\n",
              " (6,\n",
              "  '0.103*\"change\" + 0.088*\"climate\" + 0.056*\"actonclimate\" + 0.023*\"real\" + 0.020*\"fight\" + 0.019*\"open\" + 0.015*\"enrollment\" + 0.012*\"marketplace\" + 0.012*\"global\" + 0.011*\"plan\"'),\n",
              " (7,\n",
              "  '0.131*\"https\" + 0.085*\"  \" + 0.057*\"t\" + 0.053*\"co\" + 0.018*\"doyourjob\" + 0.018*\"senate\" + 0.015*\"actonclimate\" + 0.015*\"—\" + 0.013*\"leaders\" + 0.011*\"fair\"'),\n",
              " (8,\n",
              "  '0.035*\"obama\" + 0.034*\"—president\" + 0.019*\"rate\" + 0.019*\"  \" + 0.016*\"irandeal\" + 0.015*\"family\" + 0.015*\"long\" + 0.014*\"works\" + 0.013*\"   \" + 0.012*\"common\"'),\n",
              " (9,\n",
              "  '0.056*\"  \" + 0.043*\"http\" + 0.037*\"t\" + 0.035*\"co\" + 0.029*\"name\" + 0.027*\"add\" + 0.018*\"great\" + 0.017*\"economic\" + 0.016*\"raisethewage\" + 0.016*\"news\"')]"
            ]
          },
          "metadata": {
            "tags": []
          },
          "execution_count": 128
        }
      ]
    },
    {
      "cell_type": "code",
      "metadata": {
        "id": "1eG6vsVbamF_",
        "colab_type": "code",
        "outputId": "cab011d6-e59f-46d7-e919-2628bf4d04b1",
        "colab": {
          "base_uri": "https://localhost:8080/",
          "height": 882
        }
      },
      "source": [
        "#Preparamos la visualización de modelo\n",
        "vis = pyLDAvis.gensim.prepare(lda_model, corpus, gensim_dict)\n",
        "pyLDAvis.display(vis)"
      ],
      "execution_count": 129,
      "outputs": [
        {
          "output_type": "execute_result",
          "data": {
            "text/html": [
              "\n",
              "<link rel=\"stylesheet\" type=\"text/css\" href=\"https://cdn.rawgit.com/bmabey/pyLDAvis/files/ldavis.v1.0.0.css\">\n",
              "\n",
              "\n",
              "<div id=\"ldavis_el1211397898520327207919552980\"></div>\n",
              "<script type=\"text/javascript\">\n",
              "\n",
              "var ldavis_el1211397898520327207919552980_data = {\"mdsDat\": {\"x\": [0.258307816719557, 0.15672087791299188, -0.12632402953341612, 0.1326765621995395, 0.1159366045972068, -0.15108522780584377, -0.012524403836820453, -0.06365206801715763, -0.20967146747216187, -0.10038466476389506], \"y\": [-0.04383098935053731, 0.06924482485559315, -0.23609690756443907, -0.15301756091934024, 0.030481053019689543, -0.026879062907739233, 0.10554519550776845, 0.0830135348518461, -0.06567910995044561, 0.23721902245760362], \"topics\": [1, 2, 3, 4, 5, 6, 7, 8, 9, 10], \"cluster\": [1, 1, 1, 1, 1, 1, 1, 1, 1, 1], \"Freq\": [30.929231643676758, 15.65107250213623, 12.60721492767334, 10.972930908203125, 6.69325590133667, 5.845150947570801, 4.943607330322266, 4.547188758850098, 4.063259124755859, 3.7470884323120117]}, \"tinfo\": {\"Category\": [\"Default\", \"Default\", \"Default\", \"Default\", \"Default\", \"Default\", \"Default\", \"Default\", \"Default\", \"Default\", \"Default\", \"Default\", \"Default\", \"Default\", \"Default\", \"Default\", \"Default\", \"Default\", \"Default\", \"Default\", \"Default\", \"Default\", \"Default\", \"Default\", \"Default\", \"Default\", \"Default\", \"Default\", \"Default\", \"Default\", \"Topic1\", \"Topic1\", \"Topic1\", \"Topic1\", \"Topic1\", \"Topic1\", \"Topic1\", \"Topic1\", \"Topic1\", \"Topic1\", \"Topic1\", \"Topic1\", \"Topic1\", \"Topic1\", \"Topic1\", \"Topic1\", \"Topic1\", \"Topic1\", \"Topic1\", \"Topic1\", \"Topic1\", \"Topic1\", \"Topic1\", \"Topic1\", \"Topic1\", \"Topic1\", \"Topic1\", \"Topic1\", \"Topic1\", \"Topic1\", \"Topic1\", \"Topic1\", \"Topic1\", \"Topic1\", \"Topic1\", \"Topic1\", \"Topic1\", \"Topic1\", \"Topic1\", \"Topic1\", \"Topic1\", \"Topic1\", \"Topic1\", \"Topic1\", \"Topic1\", \"Topic1\", \"Topic1\", \"Topic1\", \"Topic1\", \"Topic1\", \"Topic1\", \"Topic1\", \"Topic1\", \"Topic2\", \"Topic2\", \"Topic2\", \"Topic2\", \"Topic2\", \"Topic2\", \"Topic2\", \"Topic2\", \"Topic2\", \"Topic2\", \"Topic2\", \"Topic2\", \"Topic2\", \"Topic2\", \"Topic2\", \"Topic2\", \"Topic2\", \"Topic2\", \"Topic2\", \"Topic2\", \"Topic2\", \"Topic2\", \"Topic2\", \"Topic2\", \"Topic2\", \"Topic2\", \"Topic2\", \"Topic2\", \"Topic2\", \"Topic2\", \"Topic2\", \"Topic2\", \"Topic2\", \"Topic2\", \"Topic2\", \"Topic2\", \"Topic2\", \"Topic2\", \"Topic2\", \"Topic2\", \"Topic2\", \"Topic2\", \"Topic2\", \"Topic2\", \"Topic2\", \"Topic2\", \"Topic2\", \"Topic3\", \"Topic3\", \"Topic3\", \"Topic3\", \"Topic3\", \"Topic3\", \"Topic3\", \"Topic3\", \"Topic3\", \"Topic3\", \"Topic3\", \"Topic3\", \"Topic3\", \"Topic3\", \"Topic3\", \"Topic3\", \"Topic3\", \"Topic3\", \"Topic3\", \"Topic3\", \"Topic3\", \"Topic3\", \"Topic3\", \"Topic3\", \"Topic3\", \"Topic3\", \"Topic3\", \"Topic3\", \"Topic3\", \"Topic3\", \"Topic3\", \"Topic3\", \"Topic3\", \"Topic3\", \"Topic3\", \"Topic3\", \"Topic3\", \"Topic3\", \"Topic3\", \"Topic3\", \"Topic3\", \"Topic3\", \"Topic3\", \"Topic3\", \"Topic3\", \"Topic3\", \"Topic3\", \"Topic3\", \"Topic3\", \"Topic3\", \"Topic3\", \"Topic3\", \"Topic3\", \"Topic3\", \"Topic3\", \"Topic3\", \"Topic3\", \"Topic4\", \"Topic4\", \"Topic4\", \"Topic4\", \"Topic4\", \"Topic4\", \"Topic4\", \"Topic4\", \"Topic4\", \"Topic4\", \"Topic4\", \"Topic4\", \"Topic4\", \"Topic4\", \"Topic4\", \"Topic4\", \"Topic4\", \"Topic4\", \"Topic4\", \"Topic4\", \"Topic4\", \"Topic4\", \"Topic4\", \"Topic4\", \"Topic4\", \"Topic4\", \"Topic4\", \"Topic4\", \"Topic4\", \"Topic4\", \"Topic4\", \"Topic4\", \"Topic4\", \"Topic4\", \"Topic4\", \"Topic4\", \"Topic4\", \"Topic4\", \"Topic4\", \"Topic4\", \"Topic4\", \"Topic5\", \"Topic5\", \"Topic5\", \"Topic5\", \"Topic5\", \"Topic5\", \"Topic5\", \"Topic5\", \"Topic5\", \"Topic5\", \"Topic5\", \"Topic5\", \"Topic5\", \"Topic5\", \"Topic5\", \"Topic5\", \"Topic5\", \"Topic5\", \"Topic5\", \"Topic5\", \"Topic5\", \"Topic5\", \"Topic5\", \"Topic5\", \"Topic5\", \"Topic5\", \"Topic5\", \"Topic5\", \"Topic5\", \"Topic5\", \"Topic5\", \"Topic5\", \"Topic5\", \"Topic5\", \"Topic5\", \"Topic5\", \"Topic5\", \"Topic5\", \"Topic5\", \"Topic5\", \"Topic5\", \"Topic5\", \"Topic5\", \"Topic5\", \"Topic5\", \"Topic5\", \"Topic5\", \"Topic6\", \"Topic6\", \"Topic6\", \"Topic6\", \"Topic6\", \"Topic6\", \"Topic6\", \"Topic6\", \"Topic6\", \"Topic6\", \"Topic6\", \"Topic6\", \"Topic6\", \"Topic6\", \"Topic6\", \"Topic6\", \"Topic6\", \"Topic6\", \"Topic6\", \"Topic6\", \"Topic6\", \"Topic6\", \"Topic6\", \"Topic6\", \"Topic6\", \"Topic6\", \"Topic6\", \"Topic6\", \"Topic6\", \"Topic6\", \"Topic6\", \"Topic6\", \"Topic6\", \"Topic6\", \"Topic6\", \"Topic6\", \"Topic6\", \"Topic6\", \"Topic6\", \"Topic6\", \"Topic6\", \"Topic6\", \"Topic6\", \"Topic7\", \"Topic7\", \"Topic7\", \"Topic7\", \"Topic7\", \"Topic7\", \"Topic7\", \"Topic7\", \"Topic7\", \"Topic7\", \"Topic7\", \"Topic7\", \"Topic7\", \"Topic7\", \"Topic7\", \"Topic7\", \"Topic7\", \"Topic7\", \"Topic7\", \"Topic7\", \"Topic7\", \"Topic7\", \"Topic7\", \"Topic7\", \"Topic7\", \"Topic7\", \"Topic7\", \"Topic7\", \"Topic7\", \"Topic7\", \"Topic7\", \"Topic7\", \"Topic7\", \"Topic7\", \"Topic7\", \"Topic7\", \"Topic7\", \"Topic7\", \"Topic7\", \"Topic7\", \"Topic7\", \"Topic7\", \"Topic7\", \"Topic7\", \"Topic7\", \"Topic7\", \"Topic7\", \"Topic7\", \"Topic7\", \"Topic7\", \"Topic8\", \"Topic8\", \"Topic8\", \"Topic8\", \"Topic8\", \"Topic8\", \"Topic8\", \"Topic8\", \"Topic8\", \"Topic8\", \"Topic8\", \"Topic8\", \"Topic8\", \"Topic8\", \"Topic8\", \"Topic8\", \"Topic8\", \"Topic8\", \"Topic8\", \"Topic8\", \"Topic8\", \"Topic8\", \"Topic8\", \"Topic8\", \"Topic8\", \"Topic8\", \"Topic8\", \"Topic8\", \"Topic8\", \"Topic8\", \"Topic8\", \"Topic8\", \"Topic8\", \"Topic8\", \"Topic8\", \"Topic8\", \"Topic8\", \"Topic8\", \"Topic8\", \"Topic8\", \"Topic8\", \"Topic8\", \"Topic8\", \"Topic8\", \"Topic8\", \"Topic8\", \"Topic8\", \"Topic8\", \"Topic9\", \"Topic9\", \"Topic9\", \"Topic9\", \"Topic9\", \"Topic9\", \"Topic9\", \"Topic9\", \"Topic9\", \"Topic9\", \"Topic9\", \"Topic9\", \"Topic9\", \"Topic9\", \"Topic9\", \"Topic9\", \"Topic9\", \"Topic9\", \"Topic9\", \"Topic9\", \"Topic9\", \"Topic9\", \"Topic9\", \"Topic9\", \"Topic9\", \"Topic9\", \"Topic9\", \"Topic9\", \"Topic9\", \"Topic9\", \"Topic9\", \"Topic9\", \"Topic9\", \"Topic9\", \"Topic9\", \"Topic9\", \"Topic9\", \"Topic9\", \"Topic9\", \"Topic9\", \"Topic9\", \"Topic9\", \"Topic9\", \"Topic9\", \"Topic9\", \"Topic9\", \"Topic9\", \"Topic9\", \"Topic9\", \"Topic10\", \"Topic10\", \"Topic10\", \"Topic10\", \"Topic10\", \"Topic10\", \"Topic10\", \"Topic10\", \"Topic10\", \"Topic10\", \"Topic10\", \"Topic10\", \"Topic10\", \"Topic10\", \"Topic10\", \"Topic10\", \"Topic10\", \"Topic10\", \"Topic10\", \"Topic10\", \"Topic10\", \"Topic10\", \"Topic10\", \"Topic10\", \"Topic10\", \"Topic10\", \"Topic10\", \"Topic10\", \"Topic10\", \"Topic10\", \"Topic10\", \"Topic10\", \"Topic10\", \"Topic10\", \"Topic10\", \"Topic10\", \"Topic10\", \"Topic10\", \"Topic10\", \"Topic10\", \"Topic10\"], \"Freq\": [953.0, 963.0, 495.0, 1651.0, 568.0, 2692.0, 2525.0, 168.0, 225.0, 141.0, 171.0, 166.0, 125.0, 108.0, 86.0, 125.0, 110.0, 123.0, 77.0, 82.0, 104.0, 115.0, 110.0, 114.0, 75.0, 129.0, 79.0, 85.0, 126.0, 54.0, 55.99129867553711, 54.98994827270508, 46.0494384765625, 43.43708801269531, 35.06389236450195, 34.27500915527344, 31.319005966186523, 30.317806243896484, 28.039386749267578, 27.686777114868164, 23.505273818969727, 23.29354476928711, 22.482030868530273, 60.47435760498047, 23.898582458496094, 15.20726203918457, 15.509657859802246, 14.641654014587402, 50.64591979980469, 13.85837173461914, 13.642001152038574, 13.1484375, 14.971891403198242, 12.151494979858398, 12.013952255249023, 11.522774696350098, 29.22125816345215, 10.811874389648438, 19.753551483154297, 10.028084754943848, 141.47947692871094, 58.75381088256836, 1333.3017578125, 1974.872314453125, 1844.8359375, 72.5000991821289, 107.71185302734375, 132.73968505859375, 2554.33447265625, 515.6952514648438, 27.452980041503906, 136.10044860839844, 81.97257232666016, 105.26151275634766, 243.9900360107422, 57.05207824707031, 55.6424446105957, 40.28554153442383, 54.27516555786133, 42.13993453979492, 99.70416259765625, 40.32465362548828, 39.72207260131836, 115.04225158691406, 114.1993179321289, 85.86460876464844, 71.1905517578125, 71.10443115234375, 69.67842102050781, 69.59237670898438, 50.0207405090332, 45.056434631347656, 39.26298141479492, 35.69091796875, 31.44529914855957, 30.361982345581055, 28.449758529663086, 37.901527404785156, 73.40982055664062, 22.801651000976562, 19.777706146240234, 18.59063148498535, 18.26557159423828, 16.753376007080078, 16.753204345703125, 16.323532104492188, 15.997381210327148, 15.997370719909668, 14.893195152282715, 14.485177040100098, 14.055438041687012, 39.56413269042969, 35.12314224243164, 845.5227661132812, 49.0501823425293, 25.568923950195312, 21.334217071533203, 24.240880966186523, 66.28694152832031, 40.270599365234375, 95.8115463256836, 548.253662109375, 40.43583297729492, 369.0860290527344, 341.7748107910156, 95.6081314086914, 53.60376739501953, 45.58062744140625, 60.731536865234375, 35.24445343017578, 67.49835968017578, 122.83563995361328, 24.370967864990234, 22.19405746459961, 21.36905860900879, 27.331588745117188, 20.109037399291992, 19.74542808532715, 38.1729736328125, 17.81380271911621, 17.58009910583496, 37.4552001953125, 76.40184020996094, 35.205162048339844, 15.892577171325684, 15.414582252502441, 15.413278579711914, 104.61203002929688, 17.282840728759766, 13.781756401062012, 13.187345504760742, 12.646516799926758, 11.68532943725586, 11.625589370727539, 11.625544548034668, 10.186172485351562, 10.124455451965332, 9.64470100402832, 9.46027660369873, 9.041982650756836, 503.44061279296875, 55.11703109741211, 39.603721618652344, 552.5669555664062, 62.70670700073242, 41.522705078125, 21.995891571044922, 24.372831344604492, 36.65571212768555, 17.455873489379883, 53.5563850402832, 54.24162292480469, 50.460567474365234, 31.481008529663086, 39.970947265625, 50.95486068725586, 52.38505554199219, 323.0018005371094, 54.29171371459961, 29.703947067260742, 27.29126739501953, 30.688617706298828, 48.41135787963867, 34.822811126708984, 29.00324249267578, 31.63524627685547, 28.145965576171875, 494.33819580078125, 165.8291473388672, 109.9594497680664, 84.81576538085938, 72.72702026367188, 70.3449935913086, 63.716270446777344, 64.05560302734375, 54.68092727661133, 52.89630126953125, 45.789268493652344, 39.68407440185547, 33.57777786254883, 29.804704666137695, 28.98322868347168, 24.16208839416504, 22.585887908935547, 22.353382110595703, 20.556116104125977, 20.377044677734375, 18.056385040283203, 16.953359603881836, 14.32968807220459, 13.461751937866211, 13.461078643798828, 12.414409637451172, 11.946599006652832, 11.188352584838867, 10.96202278137207, 13.224764823913574, 70.94770050048828, 18.422115325927734, 339.90576171875, 41.64191436767578, 171.68243408203125, 272.438232421875, 190.48876953125, 182.5799102783203, 42.48683547973633, 25.072378158569336, 20.872676849365234, 45.05021667480469, 49.230010986328125, 44.14458084106445, 41.711708068847656, 46.44452667236328, 37.11946105957031, 35.41960144042969, 31.803030014038086, 29.455589294433594, 27.54298973083496, 26.420717239379883, 24.982528686523438, 24.830034255981445, 22.215147018432617, 79.76686096191406, 15.884943008422852, 75.35205078125, 13.967391014099121, 13.281024932861328, 12.529210090637207, 9.870667457580566, 9.761723518371582, 9.391316413879395, 9.33687686920166, 9.336775779724121, 8.48702621459961, 8.432414054870605, 7.63688325881958, 7.515175819396973, 8.850048065185547, 15.08888053894043, 25.41136360168457, 13.812206268310547, 29.604806900024414, 20.35491371154785, 36.18595886230469, 25.693395614624023, 36.50996017456055, 38.03296661376953, 25.38597869873047, 27.0540771484375, 119.02356719970703, 154.0403289794922, 42.59146499633789, 102.69667053222656, 96.11180114746094, 21.348745346069336, 41.98760223388672, 75.69833374023438, 49.071807861328125, 32.396034240722656, 31.367515563964844, 29.273893356323242, 28.606761932373047, 24.88056182861328, 22.835044860839844, 22.307226181030273, 19.00098419189453, 20.0669002532959, 14.195022583007812, 13.900139808654785, 71.03897094726562, 12.756794929504395, 12.462309837341309, 20.548603057861328, 11.614129066467285, 15.570670127868652, 11.196422576904297, 11.073088645935059, 10.717015266418457, 10.655618667602539, 10.654705047607422, 9.155572891235352, 9.094653129577637, 9.094629287719727, 10.025096893310547, 8.194972038269043, 35.37002944946289, 30.056455612182617, 14.675701141357422, 31.650556564331055, 29.90154266357422, 48.515628814697266, 33.21881103515625, 25.751493453979492, 90.64897918701172, 28.76335906982422, 16.498886108398438, 16.873294830322266, 13.399770736694336, 108.09857940673828, 39.03449249267578, 36.16267013549805, 33.46461486816406, 20.211612701416016, 17.363082885742188, 16.73386001586914, 15.913860321044922, 13.537070274353027, 12.841073036193848, 12.375749588012695, 11.737388610839844, 10.631766319274902, 8.200573921203613, 8.251547813415527, 8.141195297241211, 8.350905418395996, 7.1561408042907715, 7.154880046844482, 6.752623558044434, 6.693296432495117, 6.1113080978393555, 6.110330581665039, 151.7478485107422, 6.075267314910889, 32.363433837890625, 5.648902893066406, 5.648818492889404, 5.126603603363037, 4.723071575164795, 73.22502136230469, 39.09821701049805, 24.143421173095703, 32.9883918762207, 69.21520233154297, 12.787431716918945, 28.889631271362305, 13.78067684173584, 11.900282859802246, 14.508774757385254, 20.15458106994629, 13.89001750946045, 11.908028602600098, 11.954278945922852, 41.27117919921875, 29.946626663208008, 27.54692268371582, 17.801122665405273, 12.396374702453613, 12.803438186645508, 49.77951431274414, 38.42028045654297, 21.285381317138672, 19.110872268676758, 18.933748245239258, 17.344398498535156, 16.408451080322266, 14.930012702941895, 13.79978084564209, 14.011948585510254, 13.566882133483887, 12.479229927062988, 11.625317573547363, 11.05217456817627, 10.476339340209961, 10.023016929626465, 9.566829681396484, 9.286222457885742, 9.542580604553223, 9.1692533493042, 8.993603706359863, 42.211524963378906, 8.70801067352295, 8.256690979003906, 8.023054122924805, 49.47658920288086, 7.508049488067627, 19.415943145751953, 6.770536422729492, 6.596071720123291, 13.828394889831543, 96.57215881347656, 37.940574645996094, 17.38605308532715, 12.673684120178223, 29.68708038330078, 24.864425659179688, 13.401881217956543, 22.7303524017334, 21.348079681396484, 13.469743728637695, 40.61622619628906, 18.164079666137695, 23.950252532958984, 14.940768241882324, 19.22647476196289, 15.50916862487793, 13.674751281738281, 23.589031219482422, 32.26789474487305, 18.300268173217773, 20.23432731628418, 26.30152702331543, 16.935054779052734, 15.511748313903809, 13.48531436920166, 9.273632049560547, 19.038860321044922, 8.836675643920898, 8.456242561340332, 25.219472885131836, 7.851355075836182, 7.3024725914001465, 7.246440887451172, 7.246416091918945, 6.8096160888671875, 6.372753143310547, 6.316702365875244, 5.879997730255127, 5.879863739013672, 5.823915958404541, 5.823514938354492, 5.435976028442383, 5.331074237823486, 5.331036567687988, 4.894278526306152, 4.8382158279418945, 4.838192462921143, 25.612796783447266, 16.22181510925293, 14.175628662109375, 9.035819053649902, 13.543678283691406, 21.62179183959961, 57.62113952636719, 58.907127380371094, 11.347829818725586, 9.091939926147461, 14.9111328125, 9.556427955627441, 32.17436218261719, 10.230408668518066, 9.184075355529785, 13.866592407226562, 11.07373332977295, 9.504260063171387, 9.735739707946777, 34.905311584472656, 29.06772804260254, 22.48955535888672, 136.5575714111328, 19.024477005004883, 13.325235366821289, 13.09158706665039, 158.54953002929688, 12.180620193481445, 11.208070755004883, 11.094462394714355, 10.066718101501465, 9.155787467956543, 9.03891372680664, 8.185212135314941, 7.610312461853027, 7.54893159866333, 7.0419020652771, 6.644777774810791, 6.130884170532227, 5.733945846557617, 5.675474643707275, 6.919373035430908, 4.647723197937012, 4.647679805755615, 6.276708126068115, 4.510110378265381, 3.5615999698638916, 3.561480760574341, 3.561431884765625, 18.729459762573242, 86.026123046875, 13.367112159729004, 31.634002685546875, 17.08694076538086, 15.094247817993164, 10.636473655700684, 11.938075065612793, 16.538528442382812, 7.052615165710449, 7.564849853515625], \"Term\": [\"https\", \"obama\", \"president\", \"http\", \"\\u2014president\", \"t\", \"co\", \"change\", \"actonclimate\", \"climate\", \"health\", \"watch\", \"make\", \"care\", \"obamacare\", \"america\", \"live\", \"americans\", \"years\", \"name\", \"fight\", \"doyourjob\", \"sotu\", \"senate\", \"jobs\", \"getcovered\", \"add\", \"address\", \"economy\", \"day\", \"chance\", \"deadline\", \"chip\", \"happy\", \"movement\", \"ready\", \"enter\", \"meet\", \"grassroots\", \"loveislove\", \"birthday\", \"organizing\", \"left\", \"check\", \"options\", \"organizers\", \"january\", \"win\", \"important\", \"difference\", \"survey\", \"student\", \"chicago\", \"alaska\", \"list\", \"final\", \"next\", \"wish\", \"petition\", \"involved\", \"today\", \"don\", \"http\", \"t\", \"co\", \"let\", \"getcovered\", \"time\", \"  \", \"s\", \"call\", \"now\", \"ofa\", \"get\", \"\\u2014\", \"take\", \"keep\", \"covered\", \"read\", \"last\", \"https\", \"help\", \"one\", \"doyourjob\", \"senate\", \"leaders\", \"judge\", \"court\", \"garland\", \"supreme\", \"hearing\", \"give\", \"vote\", \"united\", \"step\", \"scotus\", \"deal\", \"violence\", \"fair\", \"vacancy\", \"nomination\", \"story\", \"nominee\", \"process\", \"fill\", \"impact\", \"editorial\", \"boards\", \"leadership\", \"merrick\", \"mind\", \"states\", \"gun\", \"https\", \"big\", \"deserves\", \"politics\", \"forward\", \"fight\", \"say\", \"actonclimate\", \"  \", \"stand\", \"t\", \"co\", \"\\u2014\", \"can\", \"progress\", \"s\", \"need\", \"us\", \"america\", \"opportunity\", \"pass\", \"leave\", \"got\", \"leadontrade\", \"paid\", \"americaleads\", \"immigrants\", \"everybody\", \"workers\", \"work\", \"future\", \"kids\", \"businesses\", \"always\", \"sotu\", \"ahead\", \"higher\", \"men\", \"madeinamerica\", \"safe\", \"grow\", \"succeed\", \"sick\", \"talk\", \"basic\", \"cybersecurity\", \"wages\", \"\\u2014president\", \"ve\", \"together\", \"obama\", \"american\", \"every\", \"done\", \"hard\", \"women\", \"collegeopportunity\", \"people\", \"immigrationaction\", \"re\", \"good\", \"congress\", \"will\", \"economy\", \"  \", \"can\", \"working\", \"want\", \"country\", \"\\u2014\", \"americans\", \"get\", \"s\", \"make\", \"president\", \"watch\", \"live\", \"address\", \"tune\", \"speaking\", \"et\", \"weekly\", \"immigration\", \"p\", \"system\", \"happening\", \"taking\", \"discusses\", \"broken\", \"supporters\", \"steps\", \"fix\", \"delivering\", \"message\", \"statement\", \"white\", \"union\", \"access\", \"anniversary\", \"remarks\", \"discuss\", \"selma\", \"federal\", \"latest\", \"m\", \"house\", \"obama\", \"immigrationaction\", \"http\", \"  \", \"co\", \"t\", \"s\", \"now\", \"will\", \"raisethewage\", \"great\", \"news\", \"wage\", \"economic\", \"minimum\", \"even\", \"pollution\", \"energy\", \"carbon\", \"second\", \"quarter\", \"retweet\", \"reported\", \"name\", \"air\", \"add\", \"raising\", \"shouldn\", \"cutting\", \"side\", \"ontherecord\", \"investing\", \"dollar\", \"wants\", \"save\", \"betterwithobamacare\", \"able\", \"debt\", \"clear\", \"solar\", \"clean\", \"cut\", \"agree\", \"think\", \"better\", \"families\", \"support\", \"will\", \"growth\", \"stand\", \"http\", \"  \", \"actonclimate\", \"t\", \"co\", \"working\", \"record\", \"years\", \"job\", \"months\", \"private\", \"sector\", \"added\", \"past\", \"pay\", \"month\", \"five\", \"days\", \"bill\", \"ago\", \"jobs\", \"three\", \"breaking\", \"six\", \"generation\", \"justice\", \"streak\", \"gives\", \"far\", \"longest\", \"straight\", \"consecutive\", \"bipartisan\", \"service\", \"created\", \"criminal\", \"since\", \"two\", \"growing\", \"million\", \"growth\", \"economy\", \"year\", \"last\", \"  \", \"s\", \"new\", \"\\u2014\", \"   \", \"care\", \"millions\", \"team\", \"affordable\", \"facts\", \"volunteers\", \"truth\", \"something\", \"stay\", \"stronger\", \"helped\", \"shutdown\", \"readysetenroll\", \"signed\", \"water\", \"answer\", \"overtime\", \"major\", \"worth\", \"low\", \"everything\", \"agenda\", \"congressional\", \"health\", \"cleanwater\", \"act\", \"polluters\", \"rising\", \"delivers\", \"aside\", \"obamacare\", \"join\", \"thanks\", \"insurance\", \"americans\", \"thing\", \"reform\", \"enoughalready\", \"helping\", \"icymi\", \"ofa\", \"know\", \"security\", \"another\", \"  \", \"t\", \"co\", \"http\", \"fighting\", \"get\", \"sure\", \"coverage\", \"vp\", \"card\", \"holiday\", \"biden\", \"sexual\", \"assault\", \"celebrate\", \"quality\", \"starts\", \"enroll\", \"lot\", \"february\", \"thisiswhy\", \"veterans\", \"loved\", \"enough\", \"ways\", \"pushing\", \"staycovered\", \"sign\", \"almost\", \"administration\", \"ones\", \"day\", \"pledge\", \"itsonus\", \"stopgunviolence\", \"refuse\", \"season\", \"make\", \"right\", \"needs\", \"tomorrow\", \"help\", \"new\", \"everyone\", \"can\", \"getcovered\", \"like\", \"  \", \"health\", \"t\", \"year\", \"co\", \"\\u2014\", \"congress\", \"works\", \"rate\", \"economics\", \"common\", \"irandeal\", \"law\", \"percent\", \"unemployment\", \"longer\", \"sense\", \"michelle\", \"iran\", \"long\", \"lowest\", \"shot\", \"possible\", \"decade\", \"happened\", \"laws\", \"problem\", \"term\", \"highest\", \"restore\", \"honor\", \"july\", \"times\", \"alone\", \"solve\", \"feel\", \"city\", \"family\", \"marchon\", \"uninsured\", \"poverty\", \"ever\", \"   \", \"\\u2014president\", \"obama\", \"everyone\", \"children\", \"just\", \"full\", \"  \", \"middle\", \"still\", \"s\", \"time\", \"class\", \"can\", \"real\", \"open\", \"enrollment\", \"climate\", \"marketplace\", \"deniers\", \"threat\", \"change\", \"spread\", \"bold\", \"word\", \"wait\", \"friends\", \"companies\", \"tackle\", \"effects\", \"november\", \"discussing\", \"plans\", \"benefit\", \"\\u2714\", \"challenge\", \"period\", \"dollars\", \"thinking\", \"learn\", \"resurgence\", \"detroit\", \"finally\", \"drop\", \"global\", \"actonclimate\", \"miss\", \"fight\", \"plan\", \"action\", \"power\", \"support\", \"  \", \"say\", \"t\"], \"Total\": [953.0, 963.0, 495.0, 1651.0, 568.0, 2692.0, 2525.0, 168.0, 225.0, 141.0, 171.0, 166.0, 125.0, 108.0, 86.0, 125.0, 110.0, 123.0, 77.0, 82.0, 104.0, 115.0, 110.0, 114.0, 75.0, 129.0, 79.0, 85.0, 126.0, 54.0, 56.765750885009766, 55.76395034790039, 46.82390594482422, 44.21126174926758, 35.83714294433594, 35.05320739746094, 32.09298324584961, 31.091259002685547, 28.81258773803711, 28.46367073059082, 24.283348083496094, 24.066755294799805, 23.277616500854492, 63.122406005859375, 25.097291946411133, 15.982355117797852, 16.3216609954834, 15.416435241699219, 53.35425567626953, 14.632737159729004, 14.415209770202637, 13.921765327453613, 15.92361831665039, 12.936519622802734, 12.790253639221191, 12.296375274658203, 31.231563568115234, 11.585153579711914, 21.179067611694336, 10.801376342773438, 153.27328491210938, 65.69068145751953, 1651.9024658203125, 2692.530517578125, 2525.82568359375, 84.27999877929688, 129.76812744140625, 164.86801147460938, 4073.317626953125, 715.6361694335938, 30.768756866455078, 191.34957885742188, 108.4570541381836, 147.76470947265625, 435.8398132324219, 74.0721664428711, 75.76764678955078, 49.55184555053711, 106.97589874267578, 71.99771118164062, 953.037841796875, 90.92243957519531, 92.67750549316406, 115.79830169677734, 114.95596313476562, 86.69151306152344, 71.94580078125, 71.85979461669922, 70.43363189697266, 70.34768676757812, 50.77560806274414, 45.872074127197266, 40.01833724975586, 36.46739959716797, 32.19997787475586, 31.11724853515625, 29.243967056274414, 38.96042251586914, 75.83268737792969, 23.55657196044922, 20.53236198425293, 19.34621810913086, 19.020200729370117, 17.50802230834961, 17.507965087890625, 17.078271865844727, 16.75196647644043, 16.75196647644043, 15.650732040405273, 15.239786148071289, 14.810067176818848, 41.77363967895508, 37.229820251464844, 953.037841796875, 54.17609786987305, 28.238677978515625, 23.314409255981445, 28.355422973632812, 104.22672271728516, 58.097713470458984, 225.0408172607422, 4073.317626953125, 68.17675018310547, 2692.530517578125, 2525.82568359375, 435.8398132324219, 146.75054931640625, 107.76087188720703, 715.6361694335938, 72.11581420898438, 68.43527221679688, 125.18131256103516, 25.159833908081055, 22.996585845947266, 22.1580753326416, 28.394210815429688, 20.903108596801758, 20.534046173095703, 39.84809875488281, 18.602407455444336, 18.368755340576172, 39.1425666809082, 80.02362060546875, 36.87924575805664, 16.683460235595703, 16.20344352722168, 16.203311920166016, 110.02497863769531, 18.237648010253906, 14.578761100769043, 13.976600646972656, 13.435272216796875, 12.475507736206055, 12.414175987243652, 12.414175987243652, 10.974799156188965, 10.913277626037598, 10.43347454071045, 10.248869895935059, 9.830609321594238, 568.0847778320312, 62.14420700073242, 44.637638092041016, 963.9223022460938, 83.67108917236328, 53.55023956298828, 26.061094284057617, 30.391265869140625, 50.13278579711914, 20.28106117248535, 93.14031219482422, 96.595947265625, 97.10835266113281, 48.0452995300293, 72.50616455078125, 110.76287841796875, 126.36078643798828, 4073.317626953125, 146.75054931640625, 53.65658950805664, 49.23312759399414, 72.37506866455078, 435.8398132324219, 123.12545013427734, 147.76470947265625, 715.6361694335938, 125.76605987548828, 495.21051025390625, 166.90029907226562, 110.75154876708984, 85.61224365234375, 73.51866912841797, 71.13794708251953, 64.50813293457031, 64.8534164428711, 55.47337341308594, 53.688236236572266, 46.581939697265625, 40.47566223144531, 34.369380950927734, 30.596195220947266, 29.774805068969727, 24.954235076904297, 23.38329315185547, 23.144786834716797, 21.347496032714844, 21.168922424316406, 18.847871780395508, 17.797086715698242, 15.122382164001465, 14.253288269042969, 14.25340461730957, 13.205809593200684, 12.741600036621094, 11.979731559753418, 11.753686904907227, 14.186596870422363, 82.71940612792969, 21.168445587158203, 963.9223022460938, 96.595947265625, 1651.9024658203125, 4073.317626953125, 2525.82568359375, 2692.530517578125, 715.6361694335938, 191.34957885742188, 110.76287841796875, 45.85034942626953, 50.11750411987305, 44.946109771728516, 42.551753997802734, 47.41169357299805, 37.918418884277344, 36.218814849853516, 32.60154342651367, 30.27832794189453, 28.341421127319336, 27.219135284423828, 25.780933380126953, 25.628509521484375, 23.013519287109375, 82.78238677978516, 16.68337631225586, 79.3569564819336, 14.765775680541992, 14.079456329345703, 13.327577590942383, 10.669172286987305, 10.560173988342285, 10.189759254455566, 10.135259628295898, 10.135276794433594, 9.28544807434082, 9.230971336364746, 8.435656547546387, 8.330978393554688, 9.893977165222168, 17.94759750366211, 34.211299896240234, 17.074188232421875, 45.64120864868164, 28.74336814880371, 61.00688934326172, 43.3914680480957, 78.96405029296875, 110.76287841796875, 56.001434326171875, 68.17675018310547, 1651.9024658203125, 4073.317626953125, 225.0408172607422, 2692.530517578125, 2525.82568359375, 53.65658950805664, 42.913814544677734, 77.4464340209961, 50.2322998046875, 33.18663787841797, 32.16652297973633, 30.064794540405273, 29.401063919067383, 25.676969528198242, 23.638961791992188, 23.095911026000977, 19.789663314819336, 20.929861068725586, 14.983942985534668, 14.689029693603516, 75.18409729003906, 13.54596996307373, 13.251091003417969, 21.898454666137695, 12.40291976928711, 16.63137435913086, 11.985063552856445, 11.862123489379883, 11.505738258361816, 11.444266319274902, 11.444269180297852, 9.944817543029785, 9.8833589553833, 9.883354187011719, 10.903564453125, 8.986612319946289, 40.014068603515625, 33.853233337402344, 18.339853286743164, 58.370548248291016, 56.001434326171875, 126.36078643798828, 98.18944549560547, 71.99771118164062, 4073.317626953125, 715.6361694335938, 91.08635711669922, 435.8398132324219, 65.85025024414062, 108.90128326416016, 39.86116027832031, 36.954681396484375, 34.27195358276367, 21.003297805786133, 18.15476417541504, 17.52596664428711, 16.706890106201172, 14.33517074584961, 13.6328706741333, 13.169872283935547, 12.529070854187012, 11.425261497497559, 8.992277145385742, 9.050939559936523, 8.932913780212402, 9.23281192779541, 7.947836875915527, 7.9477219581604, 7.5443549156188965, 7.484977722167969, 6.903371334075928, 6.903369903564453, 171.85543823242188, 6.900400161743164, 36.881568908691406, 6.4405412673950195, 6.440548896789551, 5.918315887451172, 5.5148468017578125, 86.89994049072266, 50.00559997558594, 30.729209899902344, 48.4434814453125, 123.12545013427734, 16.75674057006836, 45.87000274658203, 19.70050048828125, 16.520721435546875, 28.775869369506836, 108.4570541381836, 42.44074249267578, 28.57805633544922, 29.05049705505371, 4073.317626953125, 2692.530517578125, 2525.82568359375, 1651.9024658203125, 49.93118667602539, 147.76470947265625, 50.595458984375, 39.2139778137207, 22.079442977905273, 19.903759002685547, 19.728179931640625, 18.13771629333496, 17.21307945251465, 15.72797966003418, 14.594049453735352, 14.818602561950684, 14.359810829162598, 13.27203369140625, 12.41830062866211, 11.845192909240723, 11.272015571594238, 10.815865516662598, 10.359733581542969, 10.079107284545898, 10.361538887023926, 9.962103843688965, 9.786630630493164, 46.03559875488281, 9.506248474121094, 9.049843788146973, 8.815834999084473, 54.57428741455078, 8.301217079162598, 21.607933044433594, 7.564456462860107, 7.388948440551758, 15.73733901977539, 125.76605987548828, 51.572174072265625, 23.644126892089844, 16.62122917175293, 90.92243957519531, 91.08635711669922, 27.526445388793945, 146.75054931640625, 129.76812744140625, 33.80292510986328, 4073.317626953125, 171.85543823242188, 2692.530517578125, 98.18944549560547, 2525.82568359375, 435.8398132324219, 72.50616455078125, 24.409374237060547, 33.655513763427734, 19.097991943359375, 21.131065368652344, 27.511194229125977, 17.731496810913086, 16.30906867980957, 14.281593322753906, 10.070178031921387, 20.682336807250977, 9.63332748413086, 9.252494812011719, 27.619104385375977, 8.647618293762207, 8.098760604858398, 8.042739868164062, 8.04273796081543, 7.60592794418335, 7.169119358062744, 7.113129138946533, 6.676257133483887, 6.67628288269043, 6.620242118835449, 6.620265483856201, 6.239248275756836, 6.127402305603027, 6.127406597137451, 5.690586566925049, 5.63455867767334, 5.634563446044922, 29.858413696289062, 21.027559280395508, 19.849502563476562, 12.242682456970215, 22.768705368041992, 65.85025024414062, 568.0847778320312, 963.9223022460938, 27.526445388793945, 18.584211349487305, 81.16878509521484, 31.651657104492188, 4073.317626953125, 53.76333999633789, 38.8265266418457, 715.6361694335938, 164.86801147460938, 51.8953742980957, 146.75054931640625, 35.82215881347656, 29.861406326293945, 23.29837417602539, 141.69943237304688, 19.817441940307617, 14.118226051330566, 13.88455867767334, 168.3527069091797, 12.97363567352295, 12.00561809539795, 11.887467384338379, 10.859718322753906, 9.94878101348877, 9.831952095031738, 8.980045318603516, 8.408989906311035, 8.350346565246582, 7.834855079650879, 7.437801837921143, 6.923923969268799, 6.5268659591674805, 6.46846866607666, 7.892609119415283, 5.440701484680176, 5.440712928771973, 7.385324954986572, 5.324975490570068, 4.354538440704346, 4.354537010192871, 4.354550361633301, 28.613853454589844, 225.0408172607422, 27.15566635131836, 104.22672271728516, 58.03575897216797, 46.8643798828125, 35.2723274230957, 78.96405029296875, 4073.317626953125, 58.097713470458984, 2692.530517578125], \"loglift\": [30.0, 29.0, 28.0, 27.0, 26.0, 25.0, 24.0, 23.0, 22.0, 21.0, 20.0, 19.0, 18.0, 17.0, 16.0, 15.0, 14.0, 13.0, 12.0, 11.0, 10.0, 9.0, 8.0, 7.0, 6.0, 5.0, 4.0, 3.0, 2.0, 1.0, 1.1597000360488892, 1.159500002861023, 1.1568000316619873, 1.1557999849319458, 1.1517000198364258, 1.1510000228881836, 1.1490999460220337, 1.148300051689148, 1.146299958229065, 1.145799994468689, 1.1409000158309937, 1.1407999992370605, 1.138700008392334, 1.1305999755859375, 1.124500036239624, 1.1238000392913818, 1.1224000453948975, 1.121899962425232, 1.121399998664856, 1.1190999746322632, 1.118299961090088, 1.1162999868392944, 1.111799955368042, 1.1109000444412231, 1.1109000444412231, 1.1085000038146973, 1.1068999767303467, 1.1044000387191772, 1.1038000583648682, 1.0992000102996826, 1.093400001525879, 1.061900019645691, 0.9592000246047974, 0.8634999990463257, 0.8593000173568726, 1.0228999853134155, 0.9872000217437744, 0.9567000269889832, 0.7067999839782715, 0.84579998254776, 1.059399962425232, 0.8327999711036682, 0.8934999704360962, 0.8342999815940857, 0.5932999849319458, 0.9124000072479248, 0.8647000193595886, 0.9664000272750854, 0.4948999881744385, 0.6377999782562256, -1.0839999914169312, 0.36039999127388, 0.326200008392334, 1.848099946975708, 1.8480000495910645, 1.8450000286102295, 1.844099998474121, 1.844099998474121, 1.8438999652862549, 1.8437999486923218, 1.8396999835968018, 1.8366999626159668, 1.8356000185012817, 1.8330999612808228, 1.830899953842163, 1.8301000595092773, 1.8271000385284424, 1.8271000385284424, 1.8221999406814575, 1.822100043296814, 1.817199945449829, 1.8148000240325928, 1.8141000270843506, 1.8106000423431396, 1.8106000423431396, 1.809399962425232, 1.808500051498413, 1.808500051498413, 1.8049999475479126, 1.8037999868392944, 1.802299976348877, 1.8003000020980835, 1.7963999509811401, 1.7348999977111816, 1.7552000284194946, 1.7553000450134277, 1.7659000158309937, 1.6979000568389893, 1.4020999670028687, 1.4881000518798828, 1.0006999969482422, -0.15080000460147858, 1.332200050354004, -0.13259999454021454, -0.14550000429153442, 0.3375999927520752, 0.8475000262260437, 0.9941999912261963, -0.6121000051498413, 1.138700008392334, 2.0571000576019287, 2.052000045776367, 2.0390000343322754, 2.035399913787842, 2.034600019454956, 2.0327999591827393, 2.0322000980377197, 2.0316998958587646, 2.0280001163482666, 2.027600049972534, 2.0269999504089355, 2.0267999172210693, 2.024600028991699, 2.024399995803833, 2.0223000049591064, 2.0209999084472656, 2.020900011062622, 2.0204999446868896, 2.0171000957489014, 2.014699935913086, 2.0127999782562256, 2.0104000568389893, 2.005500078201294, 2.0053000450134277, 2.0053000450134277, 1.9962999820709229, 1.99590003490448, 1.992300033569336, 1.9908000230789185, 1.9873000383377075, 1.9500999450683594, 1.9508999586105347, 1.951200008392334, 1.5145000219345093, 1.7825000286102295, 1.816499948501587, 1.9012999534606934, 1.8502000570297241, 1.7577999830245972, 1.9208999872207642, 1.5175000429153442, 1.4938000440597534, 1.4163000583648682, 1.6481000185012817, 1.4753999710083008, 1.2943999767303467, 1.1904000043869019, -0.46369999647140503, 1.0765000581741333, 1.479599952697754, 1.4809000492095947, 1.2129000425338745, -0.1265999972820282, 0.8080000281333923, 0.44269999861717224, -1.0479999780654907, 0.5738999843597412, 2.2079999446868896, 2.2032999992370605, 2.2026000022888184, 2.2004001140594482, 2.198899984359741, 2.198499917984009, 2.1974000930786133, 2.1974000930786133, 2.1953999996185303, 2.1949000358581543, 2.1926000118255615, 2.190000057220459, 2.1863999366760254, 2.183500051498413, 2.182800054550171, 2.177500009536743, 2.174999952316284, 2.1749000549316406, 2.171999931335449, 2.171600103378296, 2.166800022125244, 2.1612000465393066, 2.155900001525879, 2.152600049972534, 2.1524999141693115, 2.147900104522705, 2.1452999114990234, 2.141400098800659, 2.140000104904175, 2.1394999027252197, 2.0562000274658203, 2.0708000659942627, 1.1674000024795532, 1.368299961090088, -0.05429999902844429, -0.4950999915599823, -0.375, -0.4812999963760376, -0.6141999959945679, 0.17739999294281006, 0.5407999753952026, 2.686500072479248, 2.686199903488159, 2.6861000061035156, 2.6840999126434326, 2.683500051498413, 2.682800054550171, 2.68179988861084, 2.67930006980896, 2.676500082015991, 2.67549991607666, 2.674299955368042, 2.672600030899048, 2.6723999977111816, 2.668800115585327, 2.6670000553131104, 2.6549999713897705, 2.6522998809814453, 2.6484999656677246, 2.645699977874756, 2.6422998905181885, 2.626300096511841, 2.6254000663757324, 2.622499942779541, 2.621999979019165, 2.621999979019165, 2.6142001152038574, 2.613600015640259, 2.604599952697754, 2.6010000705718994, 2.592600107192993, 2.530600070953369, 2.4066998958587646, 2.4921000003814697, 2.271199941635132, 2.3589999675750732, 2.18179988861084, 2.180000066757202, 1.9327000379562378, 1.63510000705719, 1.9128999710083008, 1.7798000574111938, 0.07370000332593918, -0.570900022983551, 1.0393999814987183, -0.5623999834060669, -0.5647000074386597, 1.7825000286102295, 2.817699909210205, 2.816699981689453, 2.816200017929077, 2.8153998851776123, 2.8143999576568604, 2.8129000663757324, 2.8122000694274902, 2.8080999851226807, 2.805000066757202, 2.804800033569336, 2.7988998889923096, 2.797499895095825, 2.7855000495910645, 2.78439998626709, 2.7827999591827393, 2.7795000076293945, 2.7781999111175537, 2.775899887084961, 2.7737998962402344, 2.773699998855591, 2.7715001106262207, 2.770699977874756, 2.7685000896453857, 2.768199920654297, 2.7681000232696533, 2.7569000720977783, 2.7564001083374023, 2.7564001083374023, 2.7555999755859375, 2.747299909591675, 2.716200113296509, 2.720599889755249, 2.6166999340057373, 2.2274999618530273, 2.212100028991699, 1.8823000192642212, 1.7558000087738037, 1.811400055885315, -0.9656999707221985, -0.37450000643730164, 1.13100004196167, -0.41200000047683716, 1.2474000453948975, 2.9997000694274902, 2.9860999584198, 2.9853999614715576, 2.9832000732421875, 2.9686999320983887, 2.9625000953674316, 2.9607999324798584, 2.958400011062622, 2.9498000144958496, 2.947200059890747, 2.9449000358581543, 2.941800117492676, 2.9351000785827637, 2.914900064468384, 2.914599895477295, 2.914299964904785, 2.9066998958587646, 2.902100086212158, 2.9019999504089355, 2.896199941635132, 2.8952999114990234, 2.885200023651123, 2.884999990463257, 2.8826000690460205, 2.879699945449829, 2.8763999938964844, 2.8759000301361084, 2.8759000301361084, 2.8635001182556152, 2.852099895477295, 2.835900068283081, 2.760999917984009, 2.765899896621704, 2.62280011177063, 2.4310998916625977, 2.7367000579833984, 2.5446999073028564, 2.6496999263763428, 2.678999900817871, 2.3222999572753906, 1.3242000341415405, 1.8901000022888184, 2.1315999031066895, 2.1191000938415527, -1.5850000381469727, -1.4917000532150269, -1.5113999843597412, -1.523300051689148, 1.613800048828125, 0.5612000226974487, 3.074399948120117, 3.070199966430664, 3.053999900817871, 3.049999952316284, 3.0495998859405518, 3.0459001064300537, 3.042799949645996, 3.038599967956543, 3.0346999168395996, 3.0346999168395996, 3.033900022506714, 3.029099941253662, 3.0246999263763428, 3.021399974822998, 3.0174999237060547, 3.0144999027252197, 3.010999917984009, 3.008699893951416, 3.0083000659942627, 3.007699966430664, 3.006200075149536, 3.0039000511169434, 3.003000020980835, 2.9988999366760254, 2.9964001178741455, 2.9925999641418457, 2.9902000427246094, 2.9837000370025635, 2.97979998588562, 2.9772000312805176, 2.9612998962402344, 2.8264999389648438, 2.7836999893188477, 2.7832000255584717, 2.819499969482422, 1.9714000225067139, 1.7922999858856201, 2.3708999156951904, 1.225600004196167, 1.2858999967575073, 2.170599937438965, -1.5174000263214111, 0.843500018119812, -1.631600022315979, 1.207900047302246, -1.7874000072479248, -0.2451999932527542, 1.4225000143051147, 3.1689999103546143, 3.161099910736084, 3.1605000495910645, 3.1598000526428223, 3.1582000255584717, 3.1572000980377197, 3.15310001373291, 3.1458001136779785, 3.120800018310547, 3.1203999519348145, 3.1168999671936035, 3.1131999492645264, 3.112299919128418, 3.106600046157837, 3.0996999740600586, 3.098900079727173, 3.098900079727173, 3.092600107192993, 3.085400104522705, 3.084399938583374, 3.076200008392334, 3.076200008392334, 3.075000047683716, 3.075000047683716, 3.0653998851776123, 3.063999891281128, 3.063999891281128, 3.0524001121520996, 3.050800085067749, 3.050800085067749, 3.049799919128418, 2.943700075149536, 2.866499900817871, 2.8994998931884766, 2.6837000846862793, 2.0894999504089355, 0.9147999882698059, 0.4081000089645386, 2.3171000480651855, 2.488300085067749, 1.5088000297546387, 2.0055999755859375, -1.6378999948501587, 1.5440000295639038, 1.7616000175476074, -0.7404999732971191, 0.5026000142097473, 1.5056999921798706, 0.4902999997138977, 3.2583000659942627, 3.2572999000549316, 3.2488999366760254, 3.2472000122070312, 3.2434000968933105, 3.2263998985290527, 3.225399971008301, 3.2242000102996826, 3.221100091934204, 3.2155001163482666, 3.2151999473571777, 3.208400011062622, 3.2011001110076904, 3.2000999450683594, 3.191499948501587, 3.1844000816345215, 3.183300018310547, 3.177500009536743, 3.1714000701904297, 3.1624999046325684, 3.1547000408172607, 3.15339994430542, 3.152600049972534, 3.126699924468994, 3.1266000270843506, 3.121500015258789, 3.1180999279022217, 3.083199977874756, 3.0831000804901123, 3.0831000804901123, 2.8603999614715576, 2.3225998878479004, 2.5754001140594482, 2.091900110244751, 2.0613999366760254, 2.15120005607605, 2.085400104522705, 1.3948999643325806, -2.2223000526428223, 1.1755000352859497, -2.5905001163482666], \"logprob\": [30.0, 29.0, 28.0, 27.0, 26.0, 25.0, 24.0, 23.0, 22.0, 21.0, 20.0, 19.0, 18.0, 17.0, 16.0, 15.0, 14.0, 13.0, 12.0, 11.0, 10.0, 9.0, 8.0, 7.0, 6.0, 5.0, 4.0, 3.0, 2.0, 1.0, -5.428899765014648, -5.447000026702881, -5.6244001388549805, -5.682799816131592, -5.896999835968018, -5.9197001457214355, -6.009900093078613, -6.042399883270264, -6.120500087738037, -6.133200168609619, -6.296899795532227, -6.306000232696533, -6.341400146484375, -5.351900100708008, -6.280300140380859, -6.732399940490723, -6.712699890136719, -6.770299911499023, -5.529300212860107, -6.825200080871582, -6.841000080108643, -6.877799987792969, -6.748000144958496, -6.956699848175049, -6.968100070953369, -7.009799957275391, -6.07919979095459, -7.073500156402588, -6.470799922943115, -7.14870023727417, -4.501999855041504, -5.380799770355225, -2.258699893951416, -1.8659000396728516, -1.934000015258789, -5.170499801635742, -4.774700164794922, -4.565700054168701, -1.6086000204086304, -3.2086000442504883, -6.14169979095459, -4.5406999588012695, -5.047699928283691, -4.797699928283691, -3.9570000171661377, -5.410200119018555, -5.435200214385986, -5.7581000328063965, -5.460100173950195, -5.713099956512451, -4.851900100708008, -5.757199764251709, -5.772200107574463, -4.027699947357178, -4.034999847412109, -4.320199966430664, -4.507599830627441, -4.508800029754639, -4.529099941253662, -4.530300140380859, -4.860499858856201, -4.965099811553955, -5.102700233459473, -5.1981000900268555, -5.324699878692627, -5.359799861907959, -5.424799919128418, -5.138000011444092, -4.476900100708008, -5.646100044250488, -5.788400173187256, -5.850299835205078, -5.868000030517578, -5.954400062561035, -5.954400062561035, -5.980400085449219, -6.000500202178955, -6.000500202178955, -6.0721001625061035, -6.099800109863281, -6.130000114440918, -5.09499979019165, -5.214099884033203, -2.0329999923706055, -4.880099773406982, -5.531599998474121, -5.712699890136719, -5.58489990234375, -4.578999996185303, -5.077300071716309, -4.210599899291992, -2.466200113296509, -5.073299884796143, -2.8619000911712646, -2.938800096511841, -4.212699890136719, -4.791399955749512, -4.953499794006348, -4.666500091552734, -5.210700035095215, -4.344600200653076, -3.7458999156951904, -5.36329984664917, -5.456900119781494, -5.494800090789795, -5.248700141906738, -5.555500030517578, -5.573800086975098, -4.914599895477295, -5.676700115203857, -5.689899921417236, -4.933599948883057, -4.220699787139893, -4.995500087738037, -5.790800094604492, -5.821400165557861, -5.821499824523926, -3.906399965286255, -5.706999778747559, -5.9334001541137695, -5.977399826049805, -6.0192999839782715, -6.098400115966797, -6.103499889373779, -6.103499889373779, -6.2357001304626465, -6.241700172424316, -6.290299892425537, -6.309599876403809, -6.354800224304199, -2.335200071334839, -4.5472002029418945, -4.877799987792969, -2.2421000003814697, -4.4182000160217285, -4.83050012588501, -5.465799808502197, -5.3632001876831055, -4.955100059509277, -5.697000026702881, -4.576000213623047, -4.563300132751465, -4.635499954223633, -5.1072998046875, -4.868500232696533, -4.625800132751465, -4.598100185394287, -2.7790000438690186, -4.562300205230713, -5.16540002822876, -5.250100135803223, -5.132800102233887, -4.677000045776367, -5.006400108337402, -5.189300060272217, -5.102399826049805, -5.219299793243408, -2.214600086212158, -3.3069000244140625, -3.7177999019622803, -3.977400064468384, -4.131100177764893, -4.164400100708008, -4.263400077819824, -4.2581000328063965, -4.416299819946289, -4.44950008392334, -4.593800067901611, -4.7368998527526855, -4.9039998054504395, -5.023200035095215, -5.05109977722168, -5.233099937438965, -5.30049991607666, -5.3109002113342285, -5.394700050354004, -5.403500080108643, -5.524400234222412, -5.587399959564209, -5.755499839782715, -5.817999839782715, -5.8180999755859375, -5.89900016784668, -5.937399864196777, -6.002999782562256, -6.023399829864502, -5.8358001708984375, -4.155900001525879, -5.504300117492676, -2.589200019836426, -4.688799858093262, -3.272200107574463, -2.8104000091552734, -3.168299913406372, -3.210700035095215, -4.668700218200684, -5.196100234985352, -5.37939977645874, -4.115799903869629, -4.0269999504089355, -4.136099815368652, -4.192699909210205, -4.085299968719482, -4.3094000816345215, -4.356299877166748, -4.464000225067139, -4.540599822998047, -4.607800006866455, -4.649400234222412, -4.705399990081787, -4.71150016784668, -4.822800159454346, -3.5443999767303467, -5.158199787139893, -3.6013998985290527, -5.286799907684326, -5.337200164794922, -5.395500183105469, -5.633999824523926, -5.645100116729736, -5.683700084686279, -5.689599990844727, -5.689599990844727, -5.784999847412109, -5.791399955749512, -5.890500068664551, -5.906599998474121, -5.743100166320801, -5.20959997177124, -4.688300132751465, -5.297999858856201, -4.535600185394287, -4.910200119018555, -4.33489990234375, -4.677299976348877, -4.325900077819824, -4.285099983215332, -4.689300060272217, -4.625699996948242, -3.144200086593628, -2.8863000869750977, -4.171899795532227, -3.291800022125244, -3.3580000400543213, -4.862500190734863, -4.0507001876831055, -3.4612998962402344, -3.8947999477386475, -4.309999942779541, -4.342299938201904, -4.411300182342529, -4.4344000816345215, -4.573999881744385, -4.6596999168396, -4.68310022354126, -4.843599796295166, -4.789000034332275, -5.135200023651123, -5.156099796295166, -3.5248000621795654, -5.242000102996826, -5.2652997970581055, -4.765200138092041, -5.3358001708984375, -5.042699813842773, -5.372399806976318, -5.383500099182129, -5.416200160980225, -5.421999931335449, -5.421999931335449, -5.573699951171875, -5.580399990081787, -5.580399990081787, -5.482999801635742, -5.684500217437744, -4.2221999168396, -4.385000228881836, -5.101799964904785, -4.3333001136779785, -4.390100002288818, -3.9061999320983887, -4.284900188446045, -4.539599895477295, -3.2809998989105225, -4.428899765014648, -4.9847002029418945, -4.962299823760986, -5.192800045013428, -2.9375, -3.9560999870300293, -4.03249979019165, -4.110000133514404, -4.614299774169922, -4.766200065612793, -4.803100109100342, -4.853300094604492, -5.015100002288818, -5.06790018081665, -5.104800224304199, -5.157700061798096, -5.256700038909912, -5.516300201416016, -5.5100998878479, -5.523600101470947, -5.498199939727783, -5.652599811553955, -5.652699947357178, -5.710599899291992, -5.719399929046631, -5.810400009155273, -5.810500144958496, -2.598299980163574, -5.816299915313721, -4.143499851226807, -5.889100074768066, -5.889100074768066, -5.986100196838379, -6.0680999755859375, -3.3269999027252197, -3.954400062561035, -4.436500072479248, -4.1244001388549805, -3.3833000659942627, -5.0721001625061035, -4.256999969482422, -4.997300148010254, -5.144000053405762, -4.945799827575684, -4.617099761962891, -4.9893999099731445, -5.1433000564575195, -5.139400005340576, -3.900399923324585, -4.221099853515625, -4.304599761962891, -4.741300106048584, -5.103099822998047, -5.070799827575684, -3.629300117492676, -3.888400077819824, -4.478899955749512, -4.586699962615967, -4.5960001945495605, -4.683700084686279, -4.739099979400635, -4.833600044250488, -4.912300109863281, -4.896999835968018, -4.929299831390381, -5.012899875640869, -5.083799839019775, -5.134300231933594, -5.18779993057251, -5.232100009918213, -5.278600215911865, -5.3084001541137695, -5.281199932098389, -5.321100234985352, -5.340400218963623, -3.7941999435424805, -5.372700214385986, -5.425899982452393, -5.454599857330322, -3.6354000568389893, -5.520999908447266, -4.570799827575684, -5.6244001388549805, -5.6504998207092285, -4.910200119018555, -2.966599941253662, -3.900899887084961, -4.681300163269043, -4.997399806976318, -4.146200180053711, -4.323500156402588, -4.941500186920166, -4.4131999015808105, -4.47599983215332, -4.936500072479248, -3.8327999114990234, -4.637499809265137, -4.361000061035156, -4.832799911499023, -4.580699920654297, -4.795499801635742, -4.92140007019043, -4.263599872589111, -3.9502999782562256, -4.517499923706055, -4.416999816894531, -4.154799938201904, -4.59499979019165, -4.682799816131592, -4.822800159454346, -5.197199821472168, -4.47790002822876, -5.245500087738037, -5.2895002365112305, -4.196800231933594, -5.363699913024902, -5.436200141906738, -5.443900108337402, -5.443900108337402, -5.506100177764893, -5.572400093078613, -5.581200122833252, -5.652900218963623, -5.652900218963623, -5.662399768829346, -5.662499904632568, -5.731400012969971, -5.750899791717529, -5.750899791717529, -5.836299896240234, -5.847899913787842, -5.847899913787842, -4.181300163269043, -4.6381001472473145, -4.772900104522705, -5.223199844360352, -4.81850004196167, -4.3506999015808105, -3.370500087738037, -3.3485000133514404, -4.9953999519348145, -5.2170000076293945, -4.722300052642822, -5.167200088500977, -3.953200101852417, -5.099100112915039, -5.206900119781494, -4.794899940490723, -5.019800186157227, -5.172699928283691, -5.148600101470947, -3.790800094604492, -3.97379994392395, -4.230400085449219, -2.4267001152038574, -4.39769983291626, -4.753799915313721, -4.771399974822998, -2.2772998809814453, -4.843599796295166, -4.926799774169922, -4.936999797821045, -5.034200191497803, -5.129000186920166, -5.141900062561035, -5.241099834442139, -5.313899993896484, -5.322000026702881, -5.391499996185303, -5.4496002197265625, -5.530099868774414, -5.5970001220703125, -5.6072998046875, -5.40910005569458, -5.807000160217285, -5.807000160217285, -5.5065999031066895, -5.837100028991699, -6.073200225830078, -6.073200225830078, -6.073200225830078, -4.413300037384033, -2.8887999057769775, -4.7505998611450195, -3.88919997215271, -4.505099773406982, -4.6290998458862305, -4.979100227355957, -4.863699913024902, -4.537700176239014, -5.389999866485596, -5.319900035858154]}, \"token.table\": {\"Topic\": [1, 2, 3, 4, 5, 6, 7, 8, 9, 10, 1, 3, 5, 6, 8, 9, 10, 5, 4, 2, 7, 2, 4, 5, 10, 2, 5, 10, 5, 7, 6, 4, 8, 7, 7, 6, 2, 5, 3, 5, 1, 8, 9, 3, 3, 6, 3, 9, 2, 3, 4, 6, 10, 2, 3, 5, 6, 7, 9, 10, 4, 2, 3, 7, 9, 7, 7, 8, 3, 10, 3, 5, 6, 5, 8, 2, 7, 10, 6, 6, 1, 2, 10, 6, 4, 3, 1, 3, 5, 8, 1, 2, 3, 7, 8, 9, 10, 5, 8, 7, 8, 10, 1, 2, 10, 1, 8, 1, 2, 3, 9, 1, 9, 3, 5, 9, 2, 5, 7, 5, 2, 10, 1, 2, 4, 5, 6, 7, 8, 10, 3, 4, 9, 10, 3, 4, 7, 8, 7, 6, 1, 2, 3, 4, 7, 2, 8, 1, 7, 8, 6, 6, 3, 5, 5, 3, 1, 8, 6, 1, 2, 5, 9, 4, 7, 10, 2, 9, 10, 1, 4, 4, 10, 5, 10, 1, 10, 3, 7, 2, 10, 5, 9, 3, 4, 5, 6, 2, 10, 5, 8, 7, 9, 8, 10, 1, 4, 5, 1, 2, 3, 9, 3, 8, 3, 8, 9, 10, 7, 7, 2, 9, 3, 5, 7, 8, 9, 6, 8, 4, 9, 1, 2, 5, 10, 1, 5, 7, 8, 2, 1, 10, 6, 4, 2, 4, 10, 1, 2, 9, 3, 6, 2, 6, 1, 3, 7, 1, 8, 2, 6, 2, 10, 2, 3, 5, 6, 3, 1, 5, 3, 5, 6, 5, 6, 2, 8, 9, 4, 1, 3, 5, 1, 7, 8, 10, 2, 1, 4, 5, 7, 8, 7, 7, 9, 10, 3, 9, 8, 9, 4, 5, 1, 4, 5, 7, 8, 10, 1, 2, 4, 7, 8, 2, 5, 6, 7, 3, 4, 3, 4, 2, 1, 2, 7, 1, 7, 5, 1, 9, 9, 8, 9, 1, 6, 3, 6, 2, 7, 2, 9, 1, 2, 3, 5, 6, 8, 9, 6, 1, 3, 8, 3, 1, 3, 7, 1, 6, 8, 4, 9, 9, 2, 2, 3, 10, 3, 1, 1, 2, 7, 9, 10, 2, 3, 6, 8, 9, 1, 4, 3, 6, 9, 9, 6, 8, 8, 1, 7, 9, 3, 4, 3, 7, 3, 8, 4, 9, 10, 1, 3, 2, 4, 9, 3, 5, 9, 3, 6, 7, 2, 5, 1, 10, 6, 6, 1, 5, 7, 1, 2, 3, 4, 7, 7, 8, 3, 4, 5, 6, 7, 8, 5, 1, 3, 2, 2, 10, 1, 2, 4, 6, 7, 1, 3, 4, 6, 9, 1, 7, 1, 4, 7, 1, 2, 3, 5, 8, 9, 8, 5, 10, 3, 1, 8, 1, 1, 7, 4, 3, 3, 6, 6, 1, 2, 3, 8, 9, 10, 1, 1, 2, 4, 5, 6, 10, 10, 8, 2, 9, 7, 5, 9, 5, 9, 1, 2, 5, 10, 4, 6, 9, 2, 1, 2, 3, 4, 6, 7, 9, 8, 8, 5, 5, 5, 6, 9, 1, 2, 3, 8, 1, 2, 4, 5, 6, 7, 1, 7, 10, 6, 4, 6, 7, 9, 8, 4, 5, 9, 10, 5, 3, 8, 7, 1, 2, 3, 4, 5, 6, 7, 8, 9, 3, 5, 1, 2, 7, 10, 2, 8, 9, 5, 6, 3, 7, 4, 2, 4, 9, 6, 8, 9, 5, 7, 3, 5, 1, 8, 7, 6, 9, 6, 9, 5, 10, 9, 7, 1, 3, 4, 4, 10, 2, 5, 8, 4, 2, 5, 7, 8, 2, 4, 2, 5, 6, 7, 8, 9, 8, 2, 6, 6, 7, 1, 3, 1, 2, 5, 10, 4, 2, 8, 1, 4, 1, 2, 4, 5, 6, 7, 8, 10, 10, 1, 2, 3, 5, 8, 4, 3, 7, 9, 3, 7, 3, 7, 1, 5, 7, 8, 10, 8, 10, 6, 1, 2, 3, 5, 6, 7, 8, 9, 9, 1, 2, 3, 6, 2, 3, 9, 1, 4, 8, 7, 4, 6, 9, 9, 1, 9, 10, 4, 2, 3, 2, 3, 6, 8, 2, 7, 2, 8, 5, 3, 10, 1, 3, 5, 4, 7, 8, 4, 4, 3, 4, 5, 1, 1, 1, 3, 5, 6, 10, 3, 5, 9, 3, 4, 1, 3, 5, 9, 7, 1, 3, 6, 8, 3, 6, 1, 2, 3, 5, 6, 7, 8, 9, 3, 6, 9, 10], \"Freq\": [0.6270073056221008, 0.1345340758562088, 0.0792965441942215, 0.06677603721618652, 0.03780702129006386, 0.02234051190316677, 0.010065505281090736, 0.010065505281090736, 0.007856003940105438, 0.004173502326011658, 0.3037194311618805, 0.06074388325214386, 0.015185970813035965, 0.19741763174533844, 0.06074388325214386, 0.3340913653373718, 0.03037194162607193, 0.9483553767204285, 0.9120702147483826, 0.10845525562763214, 0.8676420450210571, 0.021338168531656265, 0.34141069650650024, 0.3200725018978119, 0.3200725018978119, 0.4265892803668976, 0.19107644259929657, 0.38215288519859314, 0.9450967311859131, 0.03780386969447136, 0.9863588809967041, 0.9928486347198486, 0.8839931488037109, 0.9628864526748657, 0.8691405653953552, 0.9530922174453735, 0.3286503553390503, 0.6573007106781006, 0.9321377277374268, 0.959038496017456, 0.9276065230369568, 0.9467456936836243, 0.8160058856010437, 0.925736665725708, 0.9825747609138489, 0.007988412864506245, 0.9536213874816895, 0.025095300748944283, 0.1075640320777893, 0.7529482245445251, 0.08366091549396515, 0.011951559223234653, 0.035854678601026535, 0.008121797814965248, 0.28426292538642883, 0.10558336973190308, 0.008121797814965248, 0.5604040622711182, 0.024365393444895744, 0.008121797814965248, 0.9120627641677856, 0.4474966526031494, 0.03442281857132912, 0.4130738377571106, 0.06884563714265823, 0.8955644369125366, 0.9066435098648071, 0.9537143707275391, 0.9584534764289856, 0.8665606379508972, 0.3770065903663635, 0.5900973081588745, 0.016391592100262642, 0.8666477203369141, 0.9372734427452087, 0.9044579267501831, 0.018458325415849686, 0.05537497252225876, 0.9343335032463074, 0.9106215834617615, 0.9883316159248352, 0.9551117420196533, 0.9162377119064331, 0.9055858254432678, 0.97397780418396, 0.9257291555404663, 0.8775135278701782, 0.0325005017220974, 0.0325005017220974, 0.0325005017220974, 0.006814284715801477, 0.36797136068344116, 0.36797136068344116, 0.02725713886320591, 0.15672855079174042, 0.0681428462266922, 0.006814284715801477, 0.9879533052444458, 0.9545935392379761, 0.9917238354682922, 0.9592950940132141, 0.9275766015052795, 0.9865103363990784, 0.05345919355750084, 0.9444457292556763, 0.9505341053009033, 0.01584223471581936, 0.9419969320297241, 0.21523647010326385, 0.21523647010326385, 0.4842820465564728, 0.9824041724205017, 0.8873801827430725, 0.5010080337524414, 0.30831265449523926, 0.19269540905952454, 0.23384086787700653, 0.73075270652771, 0.8695147633552551, 0.9096443057060242, 0.028228765353560448, 0.9668352007865906, 0.7304542064666748, 0.13540126383304596, 0.0752229243516922, 0.03800737485289574, 0.0007918202900327742, 0.01108548417687416, 0.00752229243516922, 0.0015836405800655484, 0.8382204174995422, 0.0986141711473465, 0.9464738368988037, 0.9153828024864197, 0.5516772270202637, 0.09654351323843002, 0.15171124041080475, 0.19308702647686005, 0.8691407442092896, 0.9049939513206482, 0.09671838581562042, 0.37305665016174316, 0.42832428216934204, 0.013816912658512592, 0.0829014778137207, 0.9880350828170776, 0.9690422415733337, 0.8072353005409241, 0.12108530104160309, 0.060542650520801544, 0.9171313047409058, 0.8902130722999573, 0.17570380866527557, 0.8199511170387268, 0.9754210710525513, 0.8781455755233765, 0.07329458743333817, 0.897858738899231, 0.9555725455284119, 0.9863002896308899, 0.9574624300003052, 0.9602713584899902, 0.8703503608703613, 0.983721911907196, 0.8448349237442017, 0.9207955598831177, 0.9207229614257812, 0.07082484662532806, 0.9185818433761597, 0.9567587971687317, 0.9417969584465027, 0.9805140495300293, 0.8934434652328491, 0.8879891037940979, 0.9189991354942322, 0.8981487154960632, 0.0913371592760086, 0.8441702127456665, 0.11511412262916565, 0.9931061267852783, 0.9185793399810791, 0.9702247977256775, 0.9425074458122253, 0.4115200638771057, 0.11870771646499634, 0.07913847267627716, 0.38777852058410645, 0.9551117420196533, 0.9513627886772156, 0.9577807784080505, 0.8929362297058105, 0.7106418609619141, 0.2538006603717804, 0.9041568636894226, 0.9442719221115112, 0.9659432172775269, 0.9921229481697083, 0.9663485884666443, 0.08783986419439316, 0.2635195851325989, 0.04391993209719658, 0.6148790717124939, 0.7843102216720581, 0.2054145783185959, 0.9799248576164246, 0.4722731113433838, 0.39961570501327515, 0.07265739887952805, 0.9352065324783325, 0.9522314071655273, 0.9626455903053284, 0.0263738501816988, 0.32264408469200134, 0.5991961359977722, 0.06913801282644272, 0.10047419369220734, 0.870776355266571, 0.9560446739196777, 0.9286467432975769, 0.9358765482902527, 0.8873809576034546, 0.038377873599529266, 0.6332349181175232, 0.019188936799764633, 0.30702298879623413, 0.6208544373512268, 0.10013781487941742, 0.2403307557106018, 0.020027562975883484, 0.9709866046905518, 0.9758973717689514, 0.9185821413993835, 0.9600971937179565, 0.9505380392074585, 0.8463989496231079, 0.10579986870288849, 0.9046334624290466, 0.5686905980110168, 0.09478176385164261, 0.3159392178058624, 0.9490432739257812, 0.02711552195250988, 0.9938433766365051, 0.9675140976905823, 0.7105891704559326, 0.19625796377658844, 0.08797770738601685, 0.8322536945343018, 0.16182710230350494, 0.9809889793395996, 0.9273213148117065, 0.31453296542167664, 0.6640140414237976, 0.10406845062971115, 0.645224392414093, 0.16650952398777008, 0.04162738099694252, 0.9508980512619019, 0.9717974662780762, 0.9777023196220398, 0.9666368365287781, 0.16357818245887756, 0.8178909420967102, 0.4464171230792999, 0.5357005596160889, 0.9401066303253174, 0.02686018869280815, 0.9203347563743591, 0.9882481694221497, 0.9726028442382812, 0.7897005677223206, 0.16452094912528992, 0.005818844307214022, 0.8844643235206604, 0.10473919659852982, 0.005818844307214022, 0.9847248196601868, 0.4399354159832001, 0.14297901093959808, 0.06599031388759613, 0.010998385027050972, 0.32995155453681946, 0.9111705422401428, 0.726360559463501, 0.1210600882768631, 0.1210600882768631, 0.9603011012077332, 0.8987036943435669, 0.9630893468856812, 0.9063080549240112, 0.8503222465515137, 0.0944802463054657, 0.8069483637809753, 0.10412237048149109, 0.07203815132379532, 0.010896527208387852, 0.003632175736129284, 0.001816087868064642, 0.10492762923240662, 0.8876877427101135, 0.003147828858345747, 0.0010492763249203563, 0.004197105299681425, 0.20850802958011627, 0.03475134074687958, 0.20850802958011627, 0.5212700963020325, 0.9676166772842407, 0.9914666414260864, 0.5590296387672424, 0.4348008632659912, 0.9368629455566406, 0.955875039100647, 0.018742647022008896, 0.018742647022008896, 0.30963918566703796, 0.681206226348877, 0.8832396864891052, 0.9258079528808594, 0.8646316528320312, 0.9450698494911194, 0.8793066740036011, 0.04627930000424385, 0.9802923798561096, 0.9754679799079895, 0.03990205377340317, 0.9443486332893372, 0.19997760653495789, 0.7799126505851746, 0.9868539571762085, 0.801378607749939, 0.17248009145259857, 0.160160094499588, 0.2464001327753067, 0.07392004132270813, 0.09856005758047104, 0.061600033193826675, 0.18480010330677032, 0.9620371460914612, 0.739101767539978, 0.2111719250679016, 0.03959473595023155, 0.9590336680412292, 0.3298717141151428, 0.3298717141151428, 0.3298717141151428, 0.5833518505096436, 0.36112257838249207, 0.04166799038648605, 0.9163578748703003, 0.9587458968162537, 0.8369228839874268, 0.9920232892036438, 0.9584216475486755, 0.9567955136299133, 0.8124219179153442, 0.9477357268333435, 0.9451139569282532, 0.8661604523658752, 0.04746084660291672, 0.01186521165072918, 0.03559563308954239, 0.04746084660291672, 0.11833295226097107, 0.3549988567829132, 0.059166476130485535, 0.3845821022987366, 0.0887497141957283, 0.9382143616676331, 0.9932141304016113, 0.03620682284235954, 0.03620682284235954, 0.9051705598831177, 0.8937280178070068, 0.9611800312995911, 0.9663158059120178, 0.965275764465332, 0.9837101101875305, 0.9278460741043091, 0.9251102209091187, 0.13297967612743378, 0.8583233952522278, 0.9676022529602051, 0.8807427883148193, 0.22263558208942413, 0.7712732553482056, 0.19022653996944427, 0.7609061598777771, 0.958751380443573, 0.9649014472961426, 0.9301260113716125, 0.9186480641365051, 0.9447811841964722, 0.9342566132545471, 0.46500086784362793, 0.3162005841732025, 0.18600034713745117, 0.44543009996414185, 0.5482217073440552, 0.9783959984779358, 0.9453029632568359, 0.9757790565490723, 0.4787214398384094, 0.4787214398384094, 0.9525495767593384, 0.9642435312271118, 0.9766403436660767, 0.9663891196250916, 0.024159729480743408, 0.09706608951091766, 0.4853304326534271, 0.26346510648727417, 0.04159975051879883, 0.11093267053365707, 0.253762811422348, 0.7189946174621582, 0.24152903258800507, 0.1756574809551239, 0.10978592187166214, 0.1756574809551239, 0.010978592559695244, 0.27446481585502625, 0.9789501428604126, 0.9285477995872498, 0.032018888741731644, 0.9740720391273499, 0.9463622570037842, 0.9580440521240234, 0.7107410430908203, 0.09406866878271103, 0.13065092265605927, 0.010452073998749256, 0.047034334391355515, 0.0010374280391260982, 0.5736976861953735, 0.3527255356311798, 0.01141170784831047, 0.06120825186371803, 0.14959734678268433, 0.8400465846061707, 0.7560596466064453, 0.046101197600364685, 0.18440479040145874, 0.43160420656204224, 0.1942218840122223, 0.18343178927898407, 0.021580209955573082, 0.08632083982229233, 0.08632083982229233, 0.9074580073356628, 0.946954071521759, 0.971153199672699, 0.9539013504981995, 0.9562784433364868, 0.03984493762254715, 0.9385350346565247, 0.9556751251220703, 0.8664749264717102, 0.9871808886528015, 0.9739921689033508, 0.9566637277603149, 0.9736351370811462, 0.9729699492454529, 0.3435676693916321, 0.04294595867395401, 0.5797704458236694, 0.021472979336977005, 0.9810492992401123, 0.8869056701660156, 0.9443286061286926, 0.36184588074684143, 0.06892302632331848, 0.12061528861522675, 0.12061528861522675, 0.01723075658082962, 0.29292285442352295, 0.9411382675170898, 0.9637141227722168, 0.900730550289154, 0.04289193078875542, 0.9315987229347229, 0.9815486073493958, 0.870350182056427, 0.16336289048194885, 0.7351329922676086, 0.19845585525035858, 0.39691171050071716, 0.08505251258611679, 0.3118591904640198, 0.9975555539131165, 0.9637348651885986, 0.843510627746582, 0.9709834456443787, 0.2876739799976349, 0.42687109112739563, 0.06495863944292068, 0.10207786411046982, 0.0556788370013237, 0.018559612333774567, 0.04639903083443642, 0.9034236073493958, 0.9447584748268127, 0.9697088599205017, 0.9814538359642029, 0.9481384754180908, 0.02971281297504902, 0.9508100152015686, 0.3501243591308594, 0.11327552795410156, 0.5148887634277344, 0.010297775268554688, 0.5047866106033325, 0.21500170230865479, 0.1495663970708847, 0.09347900003194809, 0.009347899816930294, 0.018695799633860588, 0.9699540138244629, 0.9627788662910461, 0.9770488739013672, 0.9787058234214783, 0.2180074006319046, 0.04360147938132286, 0.6322214603424072, 0.1090037003159523, 0.9473608136177063, 0.9086909890174866, 0.9559598565101624, 0.9063112735748291, 0.9389714598655701, 0.9754761457443237, 0.25207391381263733, 0.7368314266204834, 0.9315975904464722, 0.7210367918014526, 0.08523884415626526, 0.044715460389852524, 0.05868903920054436, 0.015370938926935196, 0.040523383766412735, 0.0027947162743657827, 0.012576223351061344, 0.019563013687729836, 0.9618846774101257, 0.8615631461143494, 0.17212381958961487, 0.6884952783584595, 0.017212381586432457, 0.12048666924238205, 0.9640955328941345, 0.8896040320396423, 0.06354314088821411, 0.9552103877067566, 0.9645833373069763, 0.5598701238632202, 0.41990259289741516, 0.9182175993919373, 0.991684079170227, 0.04835043475031853, 0.9186582565307617, 0.9106220006942749, 0.9295257329940796, 0.8643297553062439, 0.923331081867218, 0.9577725529670715, 0.9111784100532532, 0.9372798204421997, 0.06516695767641068, 0.9123374223709106, 0.8896523118019104, 0.8746923804283142, 0.09996484220027924, 0.9589717984199524, 0.04566532373428345, 0.8357664346694946, 0.11143552511930466, 0.8786440491676331, 0.9576886892318726, 0.03635537996888161, 0.9543287754058838, 0.009088844992220402, 0.9840036630630493, 0.9249527454376221, 0.5867102742195129, 0.39602944254875183, 0.974943220615387, 0.9550150036811829, 0.9575416445732117, 0.04787708446383476, 0.9766190052032471, 0.9196219444274902, 0.9627335667610168, 0.9836082458496094, 0.05151117593050003, 0.1545335203409195, 0.1545335203409195, 0.25755587220191956, 0.1545335203409195, 0.23180028796195984, 0.9253804087638855, 0.9821041226387024, 0.961179792881012, 0.9178090691566467, 0.9535775780677795, 0.9337896108627319, 0.9666368365287781, 0.025327980518341064, 0.3545917272567749, 0.4685676693916321, 0.1519678831100464, 0.9617605805397034, 0.9950575828552246, 0.9882310032844543, 0.9711964130401611, 0.987507164478302, 0.7335107326507568, 0.13704580068588257, 0.0679658055305481, 0.03825397789478302, 0.0007427956443279982, 0.011141935363411903, 0.008913547731935978, 0.0029711825773119926, 0.8908640742301941, 0.7695198059082031, 0.0675017386674881, 0.05400139093399048, 0.08100208640098572, 0.01350034773349762, 0.9892526268959045, 0.9163150191307068, 0.9741661548614502, 0.8987071514129639, 0.19525396823883057, 0.7810158729553223, 0.17903243005275726, 0.7758072018623352, 0.034790635108947754, 0.6958127021789551, 0.17395317554473877, 0.06958127021789551, 0.9189972281455994, 0.8871527910232544, 0.9362919330596924, 0.959695041179657, 0.806705892086029, 0.048523664474487305, 0.006065458059310913, 0.04245820641517639, 0.006065458059310913, 0.012130916118621826, 0.012130916118621826, 0.06672003865242004, 0.8160064816474915, 0.9199254512786865, 0.006524294149130583, 0.05219435319304466, 0.01957288198173046, 0.08961047977209091, 0.8961047530174255, 0.022402619943022728, 0.06016402319073677, 0.12032804638147354, 0.7821322679519653, 0.9699892997741699, 0.9929450750350952, 0.8861782550811768, 0.08861782401800156, 0.9102625846862793, 0.20151638984680176, 0.7053073644638062, 0.05037909746170044, 0.9257800579071045, 0.9871830940246582, 0.9790273308753967, 0.9763729572296143, 0.8850382566452026, 0.0965496301651001, 0.924567699432373, 0.9753487706184387, 0.9363933205604553, 0.9745532274246216, 0.9511109590530396, 0.9870333671569824, 0.9155078530311584, 0.9208341836929321, 0.4265420734882355, 0.5484112501144409, 0.8879876136779785, 0.9946057796478271, 0.8838861584663391, 0.9651076197624207, 0.9868408441543579, 0.9552125334739685, 0.46044307947158813, 0.18959420919418335, 0.3430752158164978, 0.9729875922203064, 0.9494910836219788, 0.05984107777476311, 0.7380399703979492, 0.17952324450016022, 0.019947025924921036, 0.9253442883491516, 0.9497196078300476, 0.024992620572447777, 0.012496310286223888, 0.9452624917030334, 0.025547634810209274, 0.0372740812599659, 0.5591111779212952, 0.39137783646583557, 0.9832288026809692, 0.8807555437088013, 0.3157162070274353, 0.183319091796875, 0.3360849916934967, 0.1527659147977829, 0.012912150472402573, 0.9813234210014343, 0.5598387122154236, 0.22026440501213074, 0.11013220250606537, 0.011472105048596859, 0.039005156606435776, 0.02064978890120983, 0.03671073541045189, 0.004588841926306486, 0.8854312300682068, 0.010561804287135601, 0.10209743678569794, 0.9192773699760437], \"Term\": [\"  \", \"  \", \"  \", \"  \", \"  \", \"  \", \"  \", \"  \", \"  \", \"  \", \"   \", \"   \", \"   \", \"   \", \"   \", \"   \", \"   \", \"able\", \"access\", \"act\", \"act\", \"action\", \"action\", \"action\", \"action\", \"actonclimate\", \"actonclimate\", \"actonclimate\", \"add\", \"add\", \"added\", \"address\", \"administration\", \"affordable\", \"agenda\", \"ago\", \"agree\", \"agree\", \"ahead\", \"air\", \"alaska\", \"almost\", \"alone\", \"always\", \"america\", \"america\", \"americaleads\", \"americaleads\", \"american\", \"american\", \"american\", \"american\", \"american\", \"americans\", \"americans\", \"americans\", \"americans\", \"americans\", \"americans\", \"americans\", \"anniversary\", \"another\", \"another\", \"another\", \"another\", \"answer\", \"aside\", \"assault\", \"basic\", \"benefit\", \"better\", \"better\", \"better\", \"betterwithobamacare\", \"biden\", \"big\", \"big\", \"big\", \"bill\", \"bipartisan\", \"birthday\", \"boards\", \"bold\", \"breaking\", \"broken\", \"businesses\", \"call\", \"call\", \"call\", \"call\", \"can\", \"can\", \"can\", \"can\", \"can\", \"can\", \"can\", \"carbon\", \"card\", \"care\", \"celebrate\", \"challenge\", \"chance\", \"change\", \"change\", \"check\", \"check\", \"chicago\", \"children\", \"children\", \"children\", \"chip\", \"city\", \"class\", \"class\", \"class\", \"clean\", \"clean\", \"cleanwater\", \"clear\", \"climate\", \"climate\", \"co\", \"co\", \"co\", \"co\", \"co\", \"co\", \"co\", \"co\", \"collegeopportunity\", \"collegeopportunity\", \"common\", \"companies\", \"congress\", \"congress\", \"congress\", \"congress\", \"congressional\", \"consecutive\", \"country\", \"country\", \"country\", \"country\", \"country\", \"court\", \"coverage\", \"covered\", \"covered\", \"covered\", \"created\", \"criminal\", \"cut\", \"cut\", \"cutting\", \"cybersecurity\", \"day\", \"day\", \"days\", \"deadline\", \"deal\", \"debt\", \"decade\", \"delivering\", \"delivers\", \"deniers\", \"deserves\", \"deserves\", \"detroit\", \"difference\", \"discuss\", \"discusses\", \"discussing\", \"dollar\", \"dollars\", \"don\", \"don\", \"done\", \"done\", \"doyourjob\", \"drop\", \"economic\", \"economics\", \"economy\", \"economy\", \"economy\", \"economy\", \"editorial\", \"effects\", \"energy\", \"enough\", \"enoughalready\", \"enoughalready\", \"enroll\", \"enrollment\", \"enter\", \"et\", \"even\", \"ever\", \"ever\", \"ever\", \"ever\", \"every\", \"every\", \"everybody\", \"everyone\", \"everyone\", \"everyone\", \"everything\", \"facts\", \"fair\", \"fair\", \"families\", \"families\", \"families\", \"family\", \"family\", \"far\", \"february\", \"federal\", \"feel\", \"fight\", \"fight\", \"fight\", \"fight\", \"fighting\", \"fighting\", \"fighting\", \"fighting\", \"fill\", \"final\", \"finally\", \"five\", \"fix\", \"forward\", \"forward\", \"friends\", \"full\", \"full\", \"full\", \"future\", \"future\", \"garland\", \"generation\", \"get\", \"get\", \"get\", \"getcovered\", \"getcovered\", \"give\", \"gives\", \"global\", \"global\", \"good\", \"good\", \"good\", \"good\", \"got\", \"grassroots\", \"great\", \"grow\", \"growing\", \"growing\", \"growth\", \"growth\", \"gun\", \"gun\", \"happened\", \"happening\", \"happy\", \"hard\", \"hard\", \"health\", \"health\", \"health\", \"health\", \"hearing\", \"help\", \"help\", \"help\", \"help\", \"help\", \"helped\", \"helping\", \"helping\", \"helping\", \"higher\", \"highest\", \"holiday\", \"honor\", \"house\", \"house\", \"http\", \"http\", \"http\", \"http\", \"http\", \"http\", \"https\", \"https\", \"https\", \"https\", \"https\", \"icymi\", \"icymi\", \"icymi\", \"icymi\", \"immigrants\", \"immigration\", \"immigrationaction\", \"immigrationaction\", \"impact\", \"important\", \"important\", \"important\", \"insurance\", \"insurance\", \"investing\", \"involved\", \"iran\", \"irandeal\", \"itsonus\", \"itsonus\", \"january\", \"job\", \"jobs\", \"jobs\", \"join\", \"join\", \"judge\", \"july\", \"just\", \"just\", \"just\", \"just\", \"just\", \"just\", \"just\", \"justice\", \"keep\", \"keep\", \"keep\", \"kids\", \"know\", \"know\", \"know\", \"last\", \"last\", \"last\", \"latest\", \"law\", \"laws\", \"leaders\", \"leadership\", \"leadontrade\", \"learn\", \"leave\", \"left\", \"let\", \"let\", \"let\", \"let\", \"let\", \"like\", \"like\", \"like\", \"like\", \"like\", \"list\", \"live\", \"long\", \"long\", \"long\", \"longer\", \"longest\", \"lot\", \"loved\", \"loveislove\", \"low\", \"lowest\", \"m\", \"m\", \"madeinamerica\", \"major\", \"make\", \"make\", \"marchon\", \"marchon\", \"marketplace\", \"meet\", \"men\", \"merrick\", \"message\", \"michelle\", \"middle\", \"middle\", \"middle\", \"million\", \"million\", \"millions\", \"mind\", \"minimum\", \"miss\", \"miss\", \"month\", \"months\", \"movement\", \"name\", \"name\", \"need\", \"need\", \"need\", \"need\", \"need\", \"needs\", \"needs\", \"new\", \"new\", \"new\", \"new\", \"new\", \"new\", \"news\", \"next\", \"next\", \"nomination\", \"nominee\", \"november\", \"now\", \"now\", \"now\", \"now\", \"now\", \"obama\", \"obama\", \"obama\", \"obama\", \"obama\", \"obamacare\", \"obamacare\", \"ofa\", \"ofa\", \"ofa\", \"one\", \"one\", \"one\", \"one\", \"one\", \"one\", \"ones\", \"ontherecord\", \"open\", \"opportunity\", \"options\", \"options\", \"organizers\", \"organizing\", \"overtime\", \"p\", \"paid\", \"pass\", \"past\", \"pay\", \"people\", \"people\", \"people\", \"people\", \"percent\", \"period\", \"petition\", \"plan\", \"plan\", \"plan\", \"plan\", \"plan\", \"plan\", \"plans\", \"pledge\", \"politics\", \"politics\", \"polluters\", \"pollution\", \"possible\", \"poverty\", \"poverty\", \"power\", \"power\", \"power\", \"power\", \"president\", \"private\", \"problem\", \"process\", \"progress\", \"progress\", \"progress\", \"progress\", \"progress\", \"progress\", \"progress\", \"pushing\", \"quality\", \"quarter\", \"raisethewage\", \"raising\", \"rate\", \"rate\", \"re\", \"re\", \"re\", \"re\", \"read\", \"read\", \"read\", \"read\", \"read\", \"read\", \"ready\", \"readysetenroll\", \"real\", \"record\", \"reform\", \"reform\", \"reform\", \"reform\", \"refuse\", \"remarks\", \"reported\", \"restore\", \"resurgence\", \"retweet\", \"right\", \"right\", \"rising\", \"s\", \"s\", \"s\", \"s\", \"s\", \"s\", \"s\", \"s\", \"s\", \"safe\", \"save\", \"say\", \"say\", \"say\", \"say\", \"scotus\", \"season\", \"season\", \"second\", \"sector\", \"security\", \"security\", \"selma\", \"senate\", \"sense\", \"sense\", \"service\", \"sexual\", \"shot\", \"shouldn\", \"shutdown\", \"sick\", \"side\", \"sign\", \"sign\", \"signed\", \"since\", \"since\", \"six\", \"six\", \"solar\", \"solar\", \"solve\", \"something\", \"sotu\", \"sotu\", \"sotu\", \"speaking\", \"spread\", \"stand\", \"stand\", \"starts\", \"statement\", \"states\", \"states\", \"stay\", \"staycovered\", \"step\", \"steps\", \"still\", \"still\", \"still\", \"still\", \"still\", \"still\", \"stopgunviolence\", \"story\", \"straight\", \"streak\", \"stronger\", \"student\", \"succeed\", \"support\", \"support\", \"support\", \"support\", \"supporters\", \"supreme\", \"sure\", \"survey\", \"system\", \"t\", \"t\", \"t\", \"t\", \"t\", \"t\", \"t\", \"t\", \"tackle\", \"take\", \"take\", \"take\", \"take\", \"take\", \"taking\", \"talk\", \"team\", \"term\", \"thanks\", \"thanks\", \"thing\", \"thing\", \"think\", \"think\", \"think\", \"think\", \"thinking\", \"thisiswhy\", \"threat\", \"three\", \"time\", \"time\", \"time\", \"time\", \"time\", \"time\", \"time\", \"time\", \"times\", \"today\", \"today\", \"today\", \"today\", \"together\", \"together\", \"together\", \"tomorrow\", \"tomorrow\", \"tomorrow\", \"truth\", \"tune\", \"two\", \"two\", \"unemployment\", \"uninsured\", \"uninsured\", \"uninsured\", \"union\", \"united\", \"us\", \"vacancy\", \"ve\", \"ve\", \"veterans\", \"violence\", \"volunteers\", \"vote\", \"vp\", \"wage\", \"wages\", \"wait\", \"want\", \"want\", \"wants\", \"watch\", \"water\", \"ways\", \"weekly\", \"white\", \"will\", \"will\", \"will\", \"win\", \"wish\", \"women\", \"women\", \"women\", \"women\", \"word\", \"work\", \"work\", \"work\", \"workers\", \"workers\", \"working\", \"working\", \"working\", \"works\", \"worth\", \"year\", \"year\", \"year\", \"year\", \"years\", \"years\", \"\\u2014\", \"\\u2014\", \"\\u2014\", \"\\u2014\", \"\\u2014\", \"\\u2014\", \"\\u2014\", \"\\u2014\", \"\\u2014president\", \"\\u2014president\", \"\\u2014president\", \"\\u2714\"]}, \"R\": 30, \"lambda.step\": 0.01, \"plot.opts\": {\"xlab\": \"PC1\", \"ylab\": \"PC2\"}, \"topic.order\": [1, 8, 6, 5, 10, 2, 4, 3, 9, 7]};\n",
              "\n",
              "function LDAvis_load_lib(url, callback){\n",
              "  var s = document.createElement('script');\n",
              "  s.src = url;\n",
              "  s.async = true;\n",
              "  s.onreadystatechange = s.onload = callback;\n",
              "  s.onerror = function(){console.warn(\"failed to load library \" + url);};\n",
              "  document.getElementsByTagName(\"head\")[0].appendChild(s);\n",
              "}\n",
              "\n",
              "if(typeof(LDAvis) !== \"undefined\"){\n",
              "   // already loaded: just create the visualization\n",
              "   !function(LDAvis){\n",
              "       new LDAvis(\"#\" + \"ldavis_el1211397898520327207919552980\", ldavis_el1211397898520327207919552980_data);\n",
              "   }(LDAvis);\n",
              "}else if(typeof define === \"function\" && define.amd){\n",
              "   // require.js is available: use it to load d3/LDAvis\n",
              "   require.config({paths: {d3: \"https://cdnjs.cloudflare.com/ajax/libs/d3/3.5.5/d3.min\"}});\n",
              "   require([\"d3\"], function(d3){\n",
              "      window.d3 = d3;\n",
              "      LDAvis_load_lib(\"https://cdn.rawgit.com/bmabey/pyLDAvis/files/ldavis.v1.0.0.js\", function(){\n",
              "        new LDAvis(\"#\" + \"ldavis_el1211397898520327207919552980\", ldavis_el1211397898520327207919552980_data);\n",
              "      });\n",
              "    });\n",
              "}else{\n",
              "    // require.js not available: dynamically load d3 & LDAvis\n",
              "    LDAvis_load_lib(\"https://cdnjs.cloudflare.com/ajax/libs/d3/3.5.5/d3.min.js\", function(){\n",
              "         LDAvis_load_lib(\"https://cdn.rawgit.com/bmabey/pyLDAvis/files/ldavis.v1.0.0.js\", function(){\n",
              "                 new LDAvis(\"#\" + \"ldavis_el1211397898520327207919552980\", ldavis_el1211397898520327207919552980_data);\n",
              "            })\n",
              "         });\n",
              "}\n",
              "</script>"
            ],
            "text/plain": [
              "<IPython.core.display.HTML object>"
            ]
          },
          "metadata": {
            "tags": []
          },
          "execution_count": 129
        }
      ]
    },
    {
      "cell_type": "markdown",
      "metadata": {
        "id": "31PbuFLxbCGT",
        "colab_type": "text"
      },
      "source": [
        "Con que modelo nos quedamos?"
      ]
    },
    {
      "cell_type": "code",
      "metadata": {
        "id": "9bRdfVmzbDA5",
        "colab_type": "code",
        "outputId": "f59b5e1e-b2f0-4014-b894-7e053f27c0f6",
        "colab": {
          "base_uri": "https://localhost:8080/",
          "height": 35
        }
      },
      "source": [
        "!pip install tqdm\n",
        "\n",
        "from tqdm import tqdm"
      ],
      "execution_count": 130,
      "outputs": [
        {
          "output_type": "stream",
          "text": [
            "Requirement already satisfied: tqdm in /usr/local/lib/python3.6/dist-packages (4.28.1)\n"
          ],
          "name": "stdout"
        }
      ]
    },
    {
      "cell_type": "code",
      "metadata": {
        "id": "bPpTJSGRbHEA",
        "colab_type": "code",
        "colab": {}
      },
      "source": [
        "from gensim.models import CoherenceModel\n",
        "\n",
        "def compute_coherence_values(dictionary, corpus, texts, limit, start=2, step=1):\n",
        "    coherence_values = []\n",
        "    model_list = []\n",
        "\n",
        "    for num_topics in range(start, limit, step):\n",
        "        model = models.LdaModel(corpus, id2word=dictionary, num_topics=num_topics, iterations=5, passes=20, alpha='auto')\n",
        "        model_list.append(model)\n",
        "        cm = CoherenceModel(model=model, texts=texts, dictionary=dictionary, coherence='c_v')\n",
        "        coherence_values.append(cm.get_coherence())\n",
        "\n",
        "    return model_list, coherence_values"
      ],
      "execution_count": 0,
      "outputs": []
    },
    {
      "cell_type": "code",
      "metadata": {
        "id": "I1o1BSjCbL3O",
        "colab_type": "code",
        "outputId": "e8214cc2-d0b8-49f6-f6e5-8032d53ea345",
        "colab": {
          "base_uri": "https://localhost:8080/",
          "height": 279
        }
      },
      "source": [
        "limit=10; start=2; step=2;\n",
        "model_list, coherence_values = compute_coherence_values(gensim_dict, corpus, documents, limit, start, step)\n",
        "x = range(start, limit, step)\n",
        "plt.plot(x, coherence_values)\n",
        "plt.xlabel('num topics')\n",
        "plt.ylabel('coherence values')\n",
        "plt.legend((\"coherence_values\"), loc=\"best\")\n",
        "plt.show()"
      ],
      "execution_count": 132,
      "outputs": [
        {
          "output_type": "display_data",
          "data": {
            "image/png": "[encoded data removed]",
            "text/plain": [
              "<Figure size 432x288 with 1 Axes>"
            ]
          },
          "metadata": {
            "tags": []
          }
        }
      ]
    }
  ]
}