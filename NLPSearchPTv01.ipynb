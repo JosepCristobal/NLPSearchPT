{
  "nbformat": 4,
  "nbformat_minor": 0,
  "metadata": {
    "colab": {
      "name": "NLPSearchPTv01.ipynb",
      "provenance": [],
      "collapsed_sections": [],
      "authorship_tag": "ABX9TyPtdNIx7IYWcHIUNbubTgr/",
      "include_colab_link": true
    },
    "kernelspec": {
      "name": "python3",
      "display_name": "Python 3"
    }
  },
  "cells": [
    {
      "cell_type": "markdown",
      "metadata": {
        "id": "view-in-github",
        "colab_type": "text"
      },
      "source": [
        "<a href=\"https://colab.research.google.com/github/JosepCristobal/NLPSearchPT/blob/master/NLPSearchPTv01.ipynb\" target=\"_parent\"><img src=\"https://colab.research.google.com/assets/colab-badge.svg\" alt=\"Open In Colab\"/></a>"
      ]
    },
    {
      "cell_type": "markdown",
      "metadata": {
        "id": "ozzc0tkEmClE",
        "colab_type": "text"
      },
      "source": [
        "NLP_Search_PTv01"
      ]
    },
    {
      "cell_type": "markdown",
      "metadata": {
        "id": "MLibu0hVgK_m",
        "colab_type": "text"
      },
      "source": [
        "### 1. Machine Learning vs Deep Learning (Acordaros que hay que implementar el pipeline visto en clase entero)\n",
        "\n",
        "    1.1. Implementación de un modelo de Sentiment Analysis con algún algoritmo de Machine Learning Clásico.\n",
        "\n",
        "    1.2. Implementación de un modelo de Sentiment Analysis con alguna arquitectura de Deep Learning.\n",
        "\n",
        "    1.3. Breve Comparación de resultados. Confusion Matrix."
      ]
    },
    {
      "cell_type": "markdown",
      "metadata": {
        "id": "y3AJUnuGgxuj",
        "colab_type": "text"
      },
      "source": [
        "Procedemos a los imports y las instalaciones que inicialmente creemos necesarias"
      ]
    },
    {
      "cell_type": "code",
      "metadata": {
        "id": "XD2SIJ0TmDmi",
        "colab_type": "code",
        "colab": {}
      },
      "source": [
        "!pip install spacy"
      ],
      "execution_count": 0,
      "outputs": []
    },
    {
      "cell_type": "code",
      "metadata": {
        "id": "nrGZ-Scw0MJq",
        "colab_type": "code",
        "colab": {
          "base_uri": "https://localhost:8080/",
          "height": 35
        },
        "outputId": "5a3a37e7-a2a8-4491-fc99-fa48dcc8f053"
      },
      "source": [
        "!pip install stop_words"
      ],
      "execution_count": 102,
      "outputs": [
        {
          "output_type": "stream",
          "text": [
            "Requirement already satisfied: stop_words in /usr/local/lib/python3.6/dist-packages (2018.7.23)\n"
          ],
          "name": "stdout"
        }
      ]
    },
    {
      "cell_type": "code",
      "metadata": {
        "id": "SwW7rlfon0oO",
        "colab_type": "code",
        "colab": {
          "base_uri": "https://localhost:8080/",
          "height": 35
        },
        "outputId": "0ceebbad-2106-472f-8546-319357470e54"
      },
      "source": [
        "!ls"
      ],
      "execution_count": 2,
      "outputs": [
        {
          "output_type": "stream",
          "text": [
            "sample_data\n"
          ],
          "name": "stdout"
        }
      ]
    },
    {
      "cell_type": "code",
      "metadata": {
        "id": "X0Omkd1mn1Yy",
        "colab_type": "code",
        "colab": {
          "base_uri": "https://localhost:8080/",
          "height": 89
        },
        "outputId": "947d2bc7-243d-4bab-acc9-d8dd88330161"
      },
      "source": [
        "!python -m spacy download es_core_news_md"
      ],
      "execution_count": 103,
      "outputs": [
        {
          "output_type": "stream",
          "text": [
            "Requirement already satisfied: es_core_news_md==2.1.0 from https://github.com/explosion/spacy-models/releases/download/es_core_news_md-2.1.0/es_core_news_md-2.1.0.tar.gz#egg=es_core_news_md==2.1.0 in /usr/local/lib/python3.6/dist-packages (2.1.0)\n",
            "\u001b[38;5;2m✔ Download and installation successful\u001b[0m\n",
            "You can now load the model via spacy.load('es_core_news_md')\n"
          ],
          "name": "stdout"
        }
      ]
    },
    {
      "cell_type": "code",
      "metadata": {
        "id": "kYre7p1sn7m6",
        "colab_type": "code",
        "colab": {
          "base_uri": "https://localhost:8080/",
          "height": 225
        },
        "outputId": "0b8f2046-1828-4cbc-db99-65c4bded00e8"
      },
      "source": [
        "!python -m spacy download en_core_web_md"
      ],
      "execution_count": 4,
      "outputs": [
        {
          "output_type": "stream",
          "text": [
            "Collecting en_core_web_md==2.1.0\n",
            "\u001b[?25l  Downloading https://github.com/explosion/spacy-models/releases/download/en_core_web_md-2.1.0/en_core_web_md-2.1.0.tar.gz (95.4MB)\n",
            "\u001b[K     |████████████████████████████████| 95.4MB 65.2MB/s \n",
            "\u001b[?25hBuilding wheels for collected packages: en-core-web-md\n",
            "  Building wheel for en-core-web-md (setup.py) ... \u001b[?25l\u001b[?25hdone\n",
            "  Created wheel for en-core-web-md: filename=en_core_web_md-2.1.0-cp36-none-any.whl size=97126236 sha256=18f50208b93370b30d3874bc1593cb9ccc2cb38776e6f4256d94256c2be7863e\n",
            "  Stored in directory: /tmp/pip-ephem-wheel-cache-cty575ob/wheels/c1/2c/5f/fd7f3ec336bf97b0809c86264d2831c5dfb00fc2e239d1bb01\n",
            "Successfully built en-core-web-md\n",
            "Installing collected packages: en-core-web-md\n",
            "Successfully installed en-core-web-md-2.1.0\n",
            "\u001b[38;5;2m✔ Download and installation successful\u001b[0m\n",
            "You can now load the model via spacy.load('en_core_web_md')\n"
          ],
          "name": "stdout"
        }
      ]
    },
    {
      "cell_type": "code",
      "metadata": {
        "id": "9_8VhLDqo917",
        "colab_type": "code",
        "colab": {
          "base_uri": "https://localhost:8080/",
          "height": 89
        },
        "outputId": "2e4c2a46-2e10-44ff-c0d2-51158a2b681a"
      },
      "source": [
        "!python -m spacy download en_core_web_sm"
      ],
      "execution_count": 105,
      "outputs": [
        {
          "output_type": "stream",
          "text": [
            "Requirement already satisfied: en_core_web_sm==2.1.0 from https://github.com/explosion/spacy-models/releases/download/en_core_web_sm-2.1.0/en_core_web_sm-2.1.0.tar.gz#egg=en_core_web_sm==2.1.0 in /usr/local/lib/python3.6/dist-packages (2.1.0)\n",
            "\u001b[38;5;2m✔ Download and installation successful\u001b[0m\n",
            "You can now load the model via spacy.load('en_core_web_sm')\n"
          ],
          "name": "stdout"
        }
      ]
    },
    {
      "cell_type": "code",
      "metadata": {
        "id": "XRpOjyP1pdkt",
        "colab_type": "code",
        "colab": {
          "base_uri": "https://localhost:8080/",
          "height": 89
        },
        "outputId": "ee82ec2c-5bdb-46e5-8f01-0517e70b2ce6"
      },
      "source": [
        "!python -m spacy download es_core_news_md"
      ],
      "execution_count": 104,
      "outputs": [
        {
          "output_type": "stream",
          "text": [
            "Requirement already satisfied: es_core_news_md==2.1.0 from https://github.com/explosion/spacy-models/releases/download/es_core_news_md-2.1.0/es_core_news_md-2.1.0.tar.gz#egg=es_core_news_md==2.1.0 in /usr/local/lib/python3.6/dist-packages (2.1.0)\n",
            "\u001b[38;5;2m✔ Download and installation successful\u001b[0m\n",
            "You can now load the model via spacy.load('es_core_news_md')\n"
          ],
          "name": "stdout"
        }
      ]
    },
    {
      "cell_type": "code",
      "metadata": {
        "id": "L0uZLxsSoONg",
        "colab_type": "code",
        "colab": {}
      },
      "source": [
        "import spacy\n",
        "from spacy import displacy"
      ],
      "execution_count": 0,
      "outputs": []
    },
    {
      "cell_type": "code",
      "metadata": {
        "id": "IY-n_muaoqDn",
        "colab_type": "code",
        "colab": {}
      },
      "source": [
        "nlp = spacy.load('en_core_web_sm')"
      ],
      "execution_count": 0,
      "outputs": []
    },
    {
      "cell_type": "markdown",
      "metadata": {
        "id": "h2imWZPjq8ZF",
        "colab_type": "text"
      },
      "source": [
        "Empezamos a importar datos para el sentiment analisys"
      ]
    },
    {
      "cell_type": "code",
      "metadata": {
        "id": "atFkzjEdteRl",
        "colab_type": "code",
        "colab": {}
      },
      "source": [
        "%matplotlib inline\n",
        "\n",
        "import numpy as np\n",
        "\n",
        "import pickle\n",
        "import json\n",
        "import os\n",
        "import csv\n",
        "\n",
        "import seaborn as sns\n",
        "import matplotlib as mpl\n",
        "import matplotlib.pyplot as plt\n",
        "import pandas as pd\n",
        "\n",
        "from random import sample\n",
        "\n",
        "import warnings\n",
        "warnings.filterwarnings('ignore')\n",
        "\n",
        "import io"
      ],
      "execution_count": 0,
      "outputs": []
    },
    {
      "cell_type": "code",
      "metadata": {
        "id": "5FIqsNLRwUPA",
        "colab_type": "code",
        "colab": {}
      },
      "source": [
        "from sklearn.model_selection import StratifiedShuffleSplit\n",
        "\n",
        "from sklearn.feature_extraction.text import CountVectorizer\n",
        "from sklearn.feature_extraction.text import TfidfTransformer\n",
        "from sklearn.naive_bayes import MultinomialNB\n",
        "from sklearn.svm import SVC\n",
        "from sklearn.model_selection import GridSearchCV\n",
        "from sklearn.pipeline import Pipeline"
      ],
      "execution_count": 0,
      "outputs": []
    },
    {
      "cell_type": "code",
      "metadata": {
        "id": "-hXI1sX0we2n",
        "colab_type": "code",
        "colab": {}
      },
      "source": [
        "def split_train_val_test(dataset, split=0.2):\n",
        "\n",
        "    x, y = zip(*dataset)\n",
        "    x = np.array(list(x))\n",
        "    y = np.array(list(y))\n",
        "    sss = StratifiedShuffleSplit(n_splits=1, test_size=split, random_state=1337) #l33t seed\n",
        "    for train_index, test_index in sss.split(x, y):\n",
        "        x_train, x_val = x[train_index], x[test_index]\n",
        "        y_train, y_val = y[train_index], y[test_index]\n",
        "    splits = {'train':(x_train, y_train), 'test':(x_val, y_val)}\n",
        "    return splits"
      ],
      "execution_count": 0,
      "outputs": []
    },
    {
      "cell_type": "code",
      "metadata": {
        "id": "krera0UWrI-e",
        "colab_type": "code",
        "colab": {}
      },
      "source": [
        "from google.colab import files"
      ],
      "execution_count": 0,
      "outputs": []
    },
    {
      "cell_type": "code",
      "metadata": {
        "id": "XavGystxrN3u",
        "colab_type": "code",
        "outputId": "421bae03-c9b4-4c9a-874e-76dc67ecf4a3",
        "colab": {
          "resources": {
            "http://localhost:8080/nbextensions/google.colab/files.js": {
              "data": "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",
              "ok": true,
              "headers": [
                [
                  "content-type",
                  "application/javascript"
                ]
              ],
              "status": 200,
              "status_text": ""
            }
          },
          "base_uri": "https://localhost:8080/",
          "height": 89
        }
      },
      "source": [
        "#Copiamos en nuestro directorio local los ficheros de datos para la práctica. Renombramos train_sentiment (1).csv a train_sentiment.csv\n",
        "#Cargamos nuestro dataset desde nuestro diretorio local a través de la selección de fichero en cuadro de dialogo.\n",
        "uploaded = files.upload()\n",
        "\n",
        "for fn in uploaded.keys():\n",
        "  print('User uploaded file \"{name}\" with length {length} bytes'.format(\n",
        "      name=fn, length=len(uploaded[fn])))"
      ],
      "execution_count": 113,
      "outputs": [
        {
          "output_type": "display_data",
          "data": {
            "text/html": [
              "\n",
              "     <input type=\"file\" id=\"files-66da44af-8bef-4763-a7c0-70e49cad3f9e\" name=\"files[]\" multiple disabled />\n",
              "     <output id=\"result-66da44af-8bef-4763-a7c0-70e49cad3f9e\">\n",
              "      Upload widget is only available when the cell has been executed in the\n",
              "      current browser session. Please rerun this cell to enable.\n",
              "      </output>\n",
              "      <script src=\"/nbextensions/google.colab/files.js\"></script> "
            ],
            "text/plain": [
              "<IPython.core.display.HTML object>"
            ]
          },
          "metadata": {
            "tags": []
          }
        },
        {
          "output_type": "stream",
          "text": [
            "Saving train_sentiment.csv to train_sentiment (4).csv\n",
            "User uploaded file \"train_sentiment.csv\" with length 8664015 bytes\n"
          ],
          "name": "stdout"
        }
      ]
    },
    {
      "cell_type": "code",
      "metadata": {
        "id": "yPs20QmFrTQQ",
        "colab_type": "code",
        "outputId": "44986e89-a6e5-4efd-8fce-72fca282a805",
        "colab": {
          "base_uri": "https://localhost:8080/",
          "height": 198
        }
      },
      "source": [
        "#En este caso, cargaremos un fichero en formato csv y con página de códigos 'ISO-8859-1' a nuestro dataset\n",
        "df = pd.read_csv(io.StringIO(uploaded['train_sentiment.csv'].decode('ISO-8859-1')))\n",
        "\n",
        "df.head(5)"
      ],
      "execution_count": 114,
      "outputs": [
        {
          "output_type": "execute_result",
          "data": {
            "text/html": [
              "<div>\n",
              "<style scoped>\n",
              "    .dataframe tbody tr th:only-of-type {\n",
              "        vertical-align: middle;\n",
              "    }\n",
              "\n",
              "    .dataframe tbody tr th {\n",
              "        vertical-align: top;\n",
              "    }\n",
              "\n",
              "    .dataframe thead th {\n",
              "        text-align: right;\n",
              "    }\n",
              "</style>\n",
              "<table border=\"1\" class=\"dataframe\">\n",
              "  <thead>\n",
              "    <tr style=\"text-align: right;\">\n",
              "      <th></th>\n",
              "      <th>ItemID</th>\n",
              "      <th>Sentiment</th>\n",
              "      <th>SentimentText</th>\n",
              "    </tr>\n",
              "  </thead>\n",
              "  <tbody>\n",
              "    <tr>\n",
              "      <th>0</th>\n",
              "      <td>1</td>\n",
              "      <td>0</td>\n",
              "      <td>is so sad for my APL frie...</td>\n",
              "    </tr>\n",
              "    <tr>\n",
              "      <th>1</th>\n",
              "      <td>2</td>\n",
              "      <td>0</td>\n",
              "      <td>I missed the New Moon trail...</td>\n",
              "    </tr>\n",
              "    <tr>\n",
              "      <th>2</th>\n",
              "      <td>3</td>\n",
              "      <td>1</td>\n",
              "      <td>omg its already 7:30 :O</td>\n",
              "    </tr>\n",
              "    <tr>\n",
              "      <th>3</th>\n",
              "      <td>4</td>\n",
              "      <td>0</td>\n",
              "      <td>.. Omgaga. Im sooo  im gunna CRy. I'...</td>\n",
              "    </tr>\n",
              "    <tr>\n",
              "      <th>4</th>\n",
              "      <td>5</td>\n",
              "      <td>0</td>\n",
              "      <td>i think mi bf is cheating on me!!!   ...</td>\n",
              "    </tr>\n",
              "  </tbody>\n",
              "</table>\n",
              "</div>"
            ],
            "text/plain": [
              "   ItemID  Sentiment                                      SentimentText\n",
              "0       1          0                       is so sad for my APL frie...\n",
              "1       2          0                     I missed the New Moon trail...\n",
              "2       3          1                            omg its already 7:30 :O\n",
              "3       4          0            .. Omgaga. Im sooo  im gunna CRy. I'...\n",
              "4       5          0           i think mi bf is cheating on me!!!   ..."
            ]
          },
          "metadata": {
            "tags": []
          },
          "execution_count": 114
        }
      ]
    },
    {
      "cell_type": "code",
      "metadata": {
        "id": "l21ixTC7z1tV",
        "colab_type": "code",
        "outputId": "513f09f9-856e-47a6-ddb8-c47dcc71d6c0",
        "colab": {
          "base_uri": "https://localhost:8080/",
          "height": 138
        }
      },
      "source": [
        "#Procedemos a la limpieza de los datos. Primeramente borramos espacios en blanco delante y detras de cada registro de 'SentimentText'\n",
        "df['SentimentText'] = df['SentimentText'].str.strip()\n",
        "df.head(3)"
      ],
      "execution_count": 115,
      "outputs": [
        {
          "output_type": "execute_result",
          "data": {
            "text/html": [
              "<div>\n",
              "<style scoped>\n",
              "    .dataframe tbody tr th:only-of-type {\n",
              "        vertical-align: middle;\n",
              "    }\n",
              "\n",
              "    .dataframe tbody tr th {\n",
              "        vertical-align: top;\n",
              "    }\n",
              "\n",
              "    .dataframe thead th {\n",
              "        text-align: right;\n",
              "    }\n",
              "</style>\n",
              "<table border=\"1\" class=\"dataframe\">\n",
              "  <thead>\n",
              "    <tr style=\"text-align: right;\">\n",
              "      <th></th>\n",
              "      <th>ItemID</th>\n",
              "      <th>Sentiment</th>\n",
              "      <th>SentimentText</th>\n",
              "    </tr>\n",
              "  </thead>\n",
              "  <tbody>\n",
              "    <tr>\n",
              "      <th>0</th>\n",
              "      <td>1</td>\n",
              "      <td>0</td>\n",
              "      <td>is so sad for my APL friend.............</td>\n",
              "    </tr>\n",
              "    <tr>\n",
              "      <th>1</th>\n",
              "      <td>2</td>\n",
              "      <td>0</td>\n",
              "      <td>I missed the New Moon trailer...</td>\n",
              "    </tr>\n",
              "    <tr>\n",
              "      <th>2</th>\n",
              "      <td>3</td>\n",
              "      <td>1</td>\n",
              "      <td>omg its already 7:30 :O</td>\n",
              "    </tr>\n",
              "  </tbody>\n",
              "</table>\n",
              "</div>"
            ],
            "text/plain": [
              "   ItemID  Sentiment                             SentimentText\n",
              "0       1          0  is so sad for my APL friend.............\n",
              "1       2          0          I missed the New Moon trailer...\n",
              "2       3          1                   omg its already 7:30 :O"
            ]
          },
          "metadata": {
            "tags": []
          },
          "execution_count": 115
        }
      ]
    },
    {
      "cell_type": "code",
      "metadata": {
        "id": "EeV9JrLH0x_D",
        "colab_type": "code",
        "outputId": "9eae04a1-9313-485c-97c2-d3d8d54e32f1",
        "colab": {
          "base_uri": "https://localhost:8080/",
          "height": 138
        }
      },
      "source": [
        "#MAS LIMPIEZA\n",
        "#Procedemos a borrar registros nulos\n",
        "df.dropna(subset=['SentimentText'],inplace=True)\n",
        "df.head(3)"
      ],
      "execution_count": 116,
      "outputs": [
        {
          "output_type": "execute_result",
          "data": {
            "text/html": [
              "<div>\n",
              "<style scoped>\n",
              "    .dataframe tbody tr th:only-of-type {\n",
              "        vertical-align: middle;\n",
              "    }\n",
              "\n",
              "    .dataframe tbody tr th {\n",
              "        vertical-align: top;\n",
              "    }\n",
              "\n",
              "    .dataframe thead th {\n",
              "        text-align: right;\n",
              "    }\n",
              "</style>\n",
              "<table border=\"1\" class=\"dataframe\">\n",
              "  <thead>\n",
              "    <tr style=\"text-align: right;\">\n",
              "      <th></th>\n",
              "      <th>ItemID</th>\n",
              "      <th>Sentiment</th>\n",
              "      <th>SentimentText</th>\n",
              "    </tr>\n",
              "  </thead>\n",
              "  <tbody>\n",
              "    <tr>\n",
              "      <th>0</th>\n",
              "      <td>1</td>\n",
              "      <td>0</td>\n",
              "      <td>is so sad for my APL friend.............</td>\n",
              "    </tr>\n",
              "    <tr>\n",
              "      <th>1</th>\n",
              "      <td>2</td>\n",
              "      <td>0</td>\n",
              "      <td>I missed the New Moon trailer...</td>\n",
              "    </tr>\n",
              "    <tr>\n",
              "      <th>2</th>\n",
              "      <td>3</td>\n",
              "      <td>1</td>\n",
              "      <td>omg its already 7:30 :O</td>\n",
              "    </tr>\n",
              "  </tbody>\n",
              "</table>\n",
              "</div>"
            ],
            "text/plain": [
              "   ItemID  Sentiment                             SentimentText\n",
              "0       1          0  is so sad for my APL friend.............\n",
              "1       2          0          I missed the New Moon trailer...\n",
              "2       3          1                   omg its already 7:30 :O"
            ]
          },
          "metadata": {
            "tags": []
          },
          "execution_count": 116
        }
      ]
    },
    {
      "cell_type": "code",
      "metadata": {
        "id": "g83QX4NXj8SI",
        "colab_type": "code",
        "colab": {}
      },
      "source": [
        "#Montaremos una serie de filtros para terminar de limpiar nuestros datos\n",
        "import re\n",
        "import string\n",
        "#Utilizamos regex para limpiar nuestro dataset de carácteres especiales, signos de puntuación , etc. \n",
        "def clean_text_round1(text):\n",
        "    #Transformamos las palabras en minusculas, eliminamos los corchete, eliminamos signos de puntuación y palabras con números.\n",
        "    text = text.lower()\n",
        "    text = re.sub('\\[.*?¿\\]\\%', ' ', text)\n",
        "    text = re.sub('[%s]' % re.escape(string.punctuation), ' ', text)\n",
        "    text = re.sub('\\w*\\d\\w*', '', text)\n",
        "    #Eliminamos signos de puntuación adicionales que en la primera vuelta no fueron tratados\n",
        "    text = re.sub('[‘’“”…«»]', '', text)\n",
        "    text = re.sub('\\n', ' ', text)\n",
        "\n",
        "    return text\n",
        " \n"
      ],
      "execution_count": 0,
      "outputs": []
    },
    {
      "cell_type": "code",
      "metadata": {
        "id": "r2MWuKZu2Hcm",
        "colab_type": "code",
        "outputId": "1f997ee3-6279-4f9f-c8e6-58c802ec10d4",
        "colab": {
          "base_uri": "https://localhost:8080/",
          "height": 35
        }
      },
      "source": [
        "df.columns[0:]"
      ],
      "execution_count": 118,
      "outputs": [
        {
          "output_type": "execute_result",
          "data": {
            "text/plain": [
              "Index(['ItemID', 'Sentiment', 'SentimentText'], dtype='object')"
            ]
          },
          "metadata": {
            "tags": []
          },
          "execution_count": 118
        }
      ]
    },
    {
      "cell_type": "code",
      "metadata": {
        "id": "iUwewsjE4pRv",
        "colab_type": "code",
        "outputId": "fd874ea1-6254-44e6-bac2-71300b9f5f76",
        "colab": {
          "base_uri": "https://localhost:8080/",
          "height": 86
        }
      },
      "source": [
        "df.isnull().any()"
      ],
      "execution_count": 119,
      "outputs": [
        {
          "output_type": "execute_result",
          "data": {
            "text/plain": [
              "ItemID           False\n",
              "Sentiment        False\n",
              "SentimentText    False\n",
              "dtype: bool"
            ]
          },
          "metadata": {
            "tags": []
          },
          "execution_count": 119
        }
      ]
    },
    {
      "cell_type": "code",
      "metadata": {
        "id": "LOdi479V2occ",
        "colab_type": "code",
        "outputId": "9f119d93-35fe-48ab-dd17-b39380932b31",
        "colab": {
          "base_uri": "https://localhost:8080/",
          "height": 52
        }
      },
      "source": [
        "#Limpiamos datos y transformamos en texto 1,0 POSITIVE, NEGATIVE respectivamente\n",
        "#Para la limpieza, invocamos la función creada para ello.\n",
        "#También aplicamos un filtro utilizando stop words\n",
        "from stop_words import get_stop_words\n",
        "pkg_stop_words = get_stop_words('en')\n",
        "new_dataset = []\n",
        "for index, row in df.iterrows():\n",
        "    if index>0:\n",
        "        label = 'POSITIVE' if row[1] == 1 else 'NEGATIVE' \n",
        "        sentence = clean_text_round1(row[2])\n",
        "        sentence_result=' '.join([word for word in sentence.split() if word not in pkg_stop_words])\n",
        "        new_dataset.append((sentence_result, label))\n",
        "print(new_dataset[0])\n",
        "len(new_dataset)"
      ],
      "execution_count": 120,
      "outputs": [
        {
          "output_type": "stream",
          "text": [
            "('missed new moon trailer', 'NEGATIVE')\n"
          ],
          "name": "stdout"
        },
        {
          "output_type": "execute_result",
          "data": {
            "text/plain": [
              "99988"
            ]
          },
          "metadata": {
            "tags": []
          },
          "execution_count": 120
        }
      ]
    },
    {
      "cell_type": "code",
      "metadata": {
        "id": "wBSWHtn5iUm7",
        "colab_type": "code",
        "colab": {}
      },
      "source": [
        "#Limpieza para la red neuronal\n",
        "#Para la limpieza, invocamos la función creada para ello.\n",
        "#También aplicamos un filtro utilizando stop words\n",
        "from stop_words import get_stop_words\n",
        "pkg_stop_words = get_stop_words('en')\n",
        "\n",
        "new_datasetNN = []\n",
        "for index, row in df.iterrows():\n",
        "    if index>0:\n",
        "        label = 1 if row[1] == 1 else 0\n",
        "        sentence = clean_text_round1(row[2])\n",
        "        sentence_result=' '.join([word for word in sentence.split() if word not in pkg_stop_words])\n",
        "        new_datasetNN.append((sentence_result, label))\n"
      ],
      "execution_count": 0,
      "outputs": []
    },
    {
      "cell_type": "code",
      "metadata": {
        "id": "Esrt6Ogl73mf",
        "colab_type": "code",
        "colab": {}
      },
      "source": [
        "#Para pruebas SVG seleccionamos 5000 registros para no eternizar las pruebas\n",
        "#new_dataset=new_dataset[:1000]\n",
        "new_datasetNN=new_datasetNN[:5000]"
      ],
      "execution_count": 0,
      "outputs": []
    },
    {
      "cell_type": "code",
      "metadata": {
        "id": "FSzhbOaJzGaY",
        "colab_type": "code",
        "colab": {}
      },
      "source": [
        "split = split_train_val_test(new_dataset, 0.20)\n"
      ],
      "execution_count": 0,
      "outputs": []
    },
    {
      "cell_type": "code",
      "metadata": {
        "id": "X5-NP8z4zX-l",
        "colab_type": "code",
        "outputId": "8c1b1b4d-79e2-47de-d6de-162d3b771b47",
        "colab": {
          "base_uri": "https://localhost:8080/",
          "height": 55
        }
      },
      "source": [
        "pipeline = Pipeline([\n",
        "    ('vect', CountVectorizer()),\n",
        "    #('clf', SVC(class_weight='balanced', probability=True)) \n",
        "    #MultinomialNB Bayes, Para usarla, comentariamos la linea anterior y descomentariamos la siguiente\n",
        "    ('clf', MultinomialNB()), #MultinomialNB\n",
        "])\n",
        "pipeline.get_params().keys() # que parametros podemos tocar en el gridsearch!"
      ],
      "execution_count": 130,
      "outputs": [
        {
          "output_type": "execute_result",
          "data": {
            "text/plain": [
              "dict_keys(['memory', 'steps', 'verbose', 'vect', 'clf', 'vect__analyzer', 'vect__binary', 'vect__decode_error', 'vect__dtype', 'vect__encoding', 'vect__input', 'vect__lowercase', 'vect__max_df', 'vect__max_features', 'vect__min_df', 'vect__ngram_range', 'vect__preprocessor', 'vect__stop_words', 'vect__strip_accents', 'vect__token_pattern', 'vect__tokenizer', 'vect__vocabulary', 'clf__alpha', 'clf__class_prior', 'clf__fit_prior'])"
            ]
          },
          "metadata": {
            "tags": []
          },
          "execution_count": 130
        }
      ]
    },
    {
      "cell_type": "code",
      "metadata": {
        "id": "mJrTIoZmznGH",
        "colab_type": "code",
        "colab": {}
      },
      "source": [
        "parameters = {\n",
        "    'vect__max_df': (0.5, 0.75, 1.0),\n",
        "    'vect__ngram_range': ((1, 2), (1, 3)), #(2, 3), (1,4)),  #ngrams para el test\n",
        "    'vect__analyzer': ('word', 'char') #Buscamos los más óptimo, analisis por palabras o por carácteres.\n",
        "}"
      ],
      "execution_count": 0,
      "outputs": []
    },
    {
      "cell_type": "code",
      "metadata": {
        "id": "YI7A-1cPztgX",
        "colab_type": "code",
        "colab": {}
      },
      "source": [
        "#Configuramos nuestro GridSearch para buscar los mejores parámetros.\n",
        "grid_search = GridSearchCV(pipeline, parameters, n_jobs=-1, verbose=1)"
      ],
      "execution_count": 0,
      "outputs": []
    },
    {
      "cell_type": "code",
      "metadata": {
        "id": "e-qB_nMl0DrN",
        "colab_type": "code",
        "outputId": "b3977832-38b1-4105-ec43-fe704f90b4c4",
        "colab": {
          "base_uri": "https://localhost:8080/",
          "height": 155
        }
      },
      "source": [
        "#Lo ejecutamos\n",
        "grid_search.fit(split['train'][0], split['train'][1])\n",
        "best_parameters = grid_search.best_estimator_.get_params()\n",
        "for param_name in sorted(parameters.keys()):\n",
        "    print(\"\\t%s: %r\" % (param_name, best_parameters[param_name]))\n",
        "print(\"Best score: %0.3f\" % grid_search.best_score_)"
      ],
      "execution_count": 133,
      "outputs": [
        {
          "output_type": "stream",
          "text": [
            "Fitting 5 folds for each of 12 candidates, totalling 60 fits\n"
          ],
          "name": "stdout"
        },
        {
          "output_type": "stream",
          "text": [
            "[Parallel(n_jobs=-1)]: Using backend LokyBackend with 2 concurrent workers.\n",
            "[Parallel(n_jobs=-1)]: Done  46 tasks      | elapsed:  3.0min\n",
            "[Parallel(n_jobs=-1)]: Done  60 out of  60 | elapsed:  4.1min finished\n"
          ],
          "name": "stderr"
        },
        {
          "output_type": "stream",
          "text": [
            "\tvect__analyzer: 'word'\n",
            "\tvect__max_df: 0.5\n",
            "\tvect__ngram_range: (1, 2)\n",
            "Best score: 0.748\n"
          ],
          "name": "stdout"
        }
      ]
    },
    {
      "cell_type": "code",
      "metadata": {
        "id": "MMu3dEu00bfD",
        "colab_type": "code",
        "outputId": "62e2de6f-7d43-4e98-f822-5045ec77697d",
        "colab": {
          "base_uri": "https://localhost:8080/",
          "height": 35
        }
      },
      "source": [
        "#Asignamos los mejores parámetros a nuestro Pipeline\n",
        "pipeline.set_params(**best_parameters)\n",
        "predictions = pipeline.score(split['test'][0], split['test'][1])\n",
        "print('TEST SCORE: {}'.format(predictions))\n",
        "\n",
        "#El resultado inicial sin hacer demasiada limpieza y con pocos filtos ha sido TEST SCORE: 0.68, a ver si lo mejoramos\n",
        "#En la última prueba, con todos los filtros aplicados, hemos conseguido un TEST SCORE: 0.7566256625662566"
      ],
      "execution_count": 134,
      "outputs": [
        {
          "output_type": "stream",
          "text": [
            "TEST SCORE: 0.7566256625662566\n"
          ],
          "name": "stdout"
        }
      ]
    },
    {
      "cell_type": "code",
      "metadata": {
        "id": "CftSyBA_Bq4s",
        "colab_type": "code",
        "colab": {}
      },
      "source": [
        "#new_dataset\n"
      ],
      "execution_count": 0,
      "outputs": []
    },
    {
      "cell_type": "code",
      "metadata": {
        "id": "coFV-7i81GG6",
        "colab_type": "code",
        "colab": {}
      },
      "source": [
        "is_positive = sample([x for x, y in new_dataset if y=='POSITIVE'], 5)"
      ],
      "execution_count": 0,
      "outputs": []
    },
    {
      "cell_type": "code",
      "metadata": {
        "id": "UprLD9As1OIy",
        "colab_type": "code",
        "outputId": "075d4b3c-434e-4a11-e1c4-9a5a5b33480e",
        "colab": {
          "base_uri": "https://localhost:8080/",
          "height": 190
        }
      },
      "source": [
        "p_positive = sample(list(split['test'][0]), 10)\n",
        "p_positive"
      ],
      "execution_count": 136,
      "outputs": [
        {
          "output_type": "execute_result",
          "data": {
            "text/plain": [
              "['alimsalahuddin lol m going see maybe today',\n",
              " 'acidargyle m making list people rock yeah pretty much make entire list awesomeupdater',\n",
              " 'afzalalmighty friends sad',\n",
              " 'goodsex topmost trend today',\n",
              " 'squarespace birthday saturday shame driving',\n",
              " 'supernatural now now don t call twitter stupid everyone overloading gonna blow one days nice',\n",
              " 'cousins leaving thursday',\n",
              " 'albumoftheweek name sunset rubdown s newest album dragonslayer album week cause frickin love',\n",
              " 'supernatural http twitpic com oh love',\n",
              " 'lt poor spent expected makeup show lmaoo much project pan hahaha']"
            ]
          },
          "metadata": {
            "tags": []
          },
          "execution_count": 136
        }
      ]
    },
    {
      "cell_type": "code",
      "metadata": {
        "id": "UElwvplF1P2G",
        "colab_type": "code",
        "outputId": "993fd184-75e9-48bd-f5bf-075ca7a43f0c",
        "colab": {
          "base_uri": "https://localhost:8080/",
          "height": 104
        }
      },
      "source": [
        "predictions = pipeline.predict(is_positive)\n",
        "predictions_probs = pipeline.predict_proba(is_positive)\n",
        "for x, y, p in zip(p_positive, predictions, predictions_probs):\n",
        "    print('{} ------> {} {}'.format(x, y, p)) # p"
      ],
      "execution_count": 137,
      "outputs": [
        {
          "output_type": "stream",
          "text": [
            "alimsalahuddin lol m going see maybe today ------> POSITIVE [5.52492403e-05 9.99944751e-01]\n",
            "acidargyle m making list people rock yeah pretty much make entire list awesomeupdater ------> POSITIVE [0.00577458 0.99422542]\n",
            "afzalalmighty friends sad ------> POSITIVE [8.36685470e-04 9.99163315e-01]\n",
            "goodsex topmost trend today ------> POSITIVE [8.26280371e-05 9.99917372e-01]\n",
            "squarespace birthday saturday shame driving ------> POSITIVE [1.12990772e-06 9.99998870e-01]\n"
          ],
          "name": "stdout"
        }
      ]
    },
    {
      "cell_type": "markdown",
      "metadata": {
        "id": "oFwJlD8yWeMy",
        "colab_type": "text"
      },
      "source": [
        "###1.2. Implementación de un modelo de Sentiment Analysis con alguna arquitectura de Deep Learning."
      ]
    },
    {
      "cell_type": "code",
      "metadata": {
        "id": "02-Z_9E0Wfi2",
        "colab_type": "code",
        "outputId": "eb0d0f6b-06a1-4883-da61-2a8877d1edd9",
        "colab": {
          "base_uri": "https://localhost:8080/",
          "height": 207
        }
      },
      "source": [
        "new_datasetNN[:10]"
      ],
      "execution_count": 138,
      "outputs": [
        {
          "output_type": "execute_result",
          "data": {
            "text/plain": [
              "[('missed new moon trailer', 0),\n",
              " ('omg already o', 1),\n",
              " ('omgaga im sooo im gunna cry ve dentist since suposed just get crown put',\n",
              "  0),\n",
              " ('think mi bf cheating t t', 0),\n",
              " ('just worry much', 0),\n",
              " ('juuuuuuuuuuuuuuuuussssst chillin', 1),\n",
              " ('sunny work tomorrow tv tonight', 0),\n",
              " ('handed uniform today miss already', 1),\n",
              " ('hmmmm wonder number', 1),\n",
              " ('must think positive', 0)]"
            ]
          },
          "metadata": {
            "tags": []
          },
          "execution_count": 138
        }
      ]
    },
    {
      "cell_type": "code",
      "metadata": {
        "id": "WlH_Mywohii6",
        "colab_type": "code",
        "colab": {}
      },
      "source": [
        "labels = ['NEGATIVE',\n",
        "            'POSITIVE'\n",
        "         ]"
      ],
      "execution_count": 0,
      "outputs": []
    },
    {
      "cell_type": "code",
      "metadata": {
        "id": "fUpnNXJZ2ZDk",
        "colab_type": "code",
        "colab": {}
      },
      "source": [
        "from keras.layers import Conv1D, Conv2D, SimpleRNN, LSTM, Dense, Dropout, CuDNNLSTM\n",
        "from keras.models import Sequential, Model\n",
        "from collections import Counter\n",
        "from keras import backend as K\n",
        "from keras.layers import Input, Average, average, Lambda\n",
        "from keras.layers import Embedding\n",
        "from keras.layers import Flatten, Input\n",
        "from keras.models import Model\n"
      ],
      "execution_count": 0,
      "outputs": []
    },
    {
      "cell_type": "code",
      "metadata": {
        "id": "ljGVzOUE2rsd",
        "colab_type": "code",
        "outputId": "d2e76efd-4af0-41de-cc50-486d07912a98",
        "colab": {
          "base_uri": "https://localhost:8080/",
          "height": 35
        }
      },
      "source": [
        "tokens = list() # lista con todos los tokens que hay en el dataset\n",
        "tokenized = list() # lista con tuplas (documento_tokenizado, etiqueta)\n",
        "\n",
        "for x, y in new_datasetNN:\n",
        "    toks = [t.text for t in nlp(x)]\n",
        "    tokens += toks\n",
        "    tokenized.append((toks, y))\n",
        "\n",
        "vocab_counter = Counter(tokens)\n",
        "vocab = list(vocab_counter.keys())\n",
        "len(vocab), len(tokenized)"
      ],
      "execution_count": 141,
      "outputs": [
        {
          "output_type": "execute_result",
          "data": {
            "text/plain": [
              "(8771, 5000)"
            ]
          },
          "metadata": {
            "tags": []
          },
          "execution_count": 141
        }
      ]
    },
    {
      "cell_type": "code",
      "metadata": {
        "id": "aj8pKCGZ21BH",
        "colab_type": "code",
        "outputId": "c7fce101-87c1-4581-b749-03ee210803b6",
        "colab": {
          "base_uri": "https://localhost:8080/",
          "height": 35
        }
      },
      "source": [
        "maxlen = max([len(x) for x, _ in tokenized])\n",
        "maxlen"
      ],
      "execution_count": 142,
      "outputs": [
        {
          "output_type": "execute_result",
          "data": {
            "text/plain": [
              "32"
            ]
          },
          "metadata": {
            "tags": []
          },
          "execution_count": 142
        }
      ]
    },
    {
      "cell_type": "code",
      "metadata": {
        "id": "uchBkqIa29wB",
        "colab_type": "code",
        "outputId": "b1274ce2-6b0d-4903-b894-abeda23b3650",
        "colab": {
          "base_uri": "https://localhost:8080/",
          "height": 35
        }
      },
      "source": [
        "lens = [len(x) for x, _ in tokenized]\n",
        "median = np.median(np.array(lens))\n",
        "mean = np.mean(np.array(lens))\n",
        "maxlen = int(median)*2\n",
        "print(median, mean, maxlen)\n",
        "#Doble de la mediana para la dimensión máxima"
      ],
      "execution_count": 143,
      "outputs": [
        {
          "output_type": "stream",
          "text": [
            "7.0 7.4694 14\n"
          ],
          "name": "stdout"
        }
      ]
    },
    {
      "cell_type": "code",
      "metadata": {
        "id": "avIeGMV03E8E",
        "colab_type": "code",
        "outputId": "90190f61-0137-455d-cf04-c34e8100f826",
        "colab": {
          "base_uri": "https://localhost:8080/",
          "height": 35
        }
      },
      "source": [
        "tokenized_filtered = [(x, y) for x, y in tokenized if len(x)<maxlen]\n",
        "len(tokenized_filtered)"
      ],
      "execution_count": 144,
      "outputs": [
        {
          "output_type": "execute_result",
          "data": {
            "text/plain": [
              "4347"
            ]
          },
          "metadata": {
            "tags": []
          },
          "execution_count": 144
        }
      ]
    },
    {
      "cell_type": "code",
      "metadata": {
        "id": "sIUA0Sne3TZj",
        "colab_type": "code",
        "colab": {}
      },
      "source": [
        "w2id = {k:i for i, k in enumerate(vocab)}\n",
        "w2id['<UNK>'] = len(w2id)\n",
        "\n"
      ],
      "execution_count": 0,
      "outputs": []
    },
    {
      "cell_type": "code",
      "metadata": {
        "id": "IYL203YH_L2z",
        "colab_type": "code",
        "colab": {}
      },
      "source": [
        "l2id = {label:i for i, label in enumerate(labels)}"
      ],
      "execution_count": 0,
      "outputs": []
    },
    {
      "cell_type": "code",
      "metadata": {
        "id": "qiiY7CPw3Utz",
        "colab_type": "code",
        "outputId": "834cc0c5-ac8b-4d70-b73e-ceeae2f83401",
        "colab": {
          "base_uri": "https://localhost:8080/",
          "height": 35
        }
      },
      "source": [
        "MIN_APPEARENCE_TOKEN = 5\n",
        "#Palabras que han aparecido menos de X veces\n",
        "input_ready = list()\n",
        "for x, y in tokenized_filtered:\n",
        "    sentence = np.zeros((maxlen))\n",
        "    label = np.zeros((len(labels)))\n",
        "    #label[int(y) - 1] = 1 En nuestro caso valor mínimo es 0 no uno como en el ejemplo de clase\n",
        "    label[int(y)] = 1\n",
        "    #Transformamos de tokens a sus ids\n",
        "    for i, t in enumerate(x):\n",
        "        sentence[i] = w2id[t] if t in vocab_counter and vocab_counter[t]>= MIN_APPEARENCE_TOKEN else w2id['<UNK>']\n",
        "\n",
        "    input_ready.append((sentence, label))\n",
        "\n",
        "input_ready[0][0].shape"
      ],
      "execution_count": 147,
      "outputs": [
        {
          "output_type": "execute_result",
          "data": {
            "text/plain": [
              "(14,)"
            ]
          },
          "metadata": {
            "tags": []
          },
          "execution_count": 147
        }
      ]
    },
    {
      "cell_type": "code",
      "metadata": {
        "id": "sP3i0YS53Y2t",
        "colab_type": "code",
        "outputId": "9405ed0e-0663-4114-d618-ea9005d80d19",
        "colab": {
          "base_uri": "https://localhost:8080/",
          "height": 35
        }
      },
      "source": [
        "splits = split_train_val_test(input_ready)\n",
        "splits['train'][0].shape, splits['train'][1].shape, splits['test'][0].shape,splits['test'][1].shape"
      ],
      "execution_count": 148,
      "outputs": [
        {
          "output_type": "execute_result",
          "data": {
            "text/plain": [
              "((3477, 14), (3477, 2), (870, 14), (870, 2))"
            ]
          },
          "metadata": {
            "tags": []
          },
          "execution_count": 148
        }
      ]
    },
    {
      "cell_type": "code",
      "metadata": {
        "id": "oShON652YFMC",
        "colab_type": "code",
        "colab": {}
      },
      "source": [
        "#Implementamos DAN Deep Averaging Networks"
      ],
      "execution_count": 0,
      "outputs": []
    },
    {
      "cell_type": "code",
      "metadata": {
        "id": "3ubE6m-i3id9",
        "colab_type": "code",
        "colab": {}
      },
      "source": [
        "def mask_aware_mean(x):\n",
        "    #Macamos las filas que todo son ceros\n",
        "    mask = K.not_equal(K.sum(K.abs(x), axis=2, keepdims=True), 0)\n",
        "    #Calculamos los que nos interesa quedarnos\n",
        "    n = K.sum(K.cast(mask, 'float32'), axis=1, keepdims=False)\n",
        "    x_mean = K.sum(x, axis=1, keepdims=False) / n\n",
        "    return x_mean\n",
        "\n",
        "def mask_aware_mean_output_shape(input_shape):\n",
        "    shape = list(input_shape)\n",
        "    assert len(shape) == 3, 'Dimensions for average are wrong'\n",
        "    return (shape[0], shape[2])\n",
        "    "
      ],
      "execution_count": 0,
      "outputs": []
    },
    {
      "cell_type": "code",
      "metadata": {
        "id": "XefQoWzi4GHi",
        "colab_type": "code",
        "outputId": "74c4443f-c23f-47b4-a05f-9952728b529f",
        "colab": {
          "base_uri": "https://localhost:8080/",
          "height": 432
        }
      },
      "source": [
        "input_layer = Input(shape=(maxlen,))\n",
        "embedding = Embedding(output_dim=100, input_dim=len(w2id), input_length=maxlen, name='m_embedding')(input_layer)\n",
        "doc_representation = Lambda(mask_aware_mean, mask_aware_mean_output_shape, name='embedding_average')(embedding)\n",
        "dense_1 = Dense(100, activation='relu')(doc_representation)\n",
        "drop_1 = Dropout(0.5)(dense_1)\n",
        "dense_2 = Dense(100, activation='relu')(drop_1)\n",
        "drop_2 = Dropout(0.5)(dense_2)\n",
        "out = Dense(len(l2id), activation='softmax')(drop_2)\n",
        "\n",
        "model = Model(inputs=input_layer, outputs=out)\n",
        "model.compile(\n",
        "    loss='categorical_crossentropy',\n",
        "    optimizer='rmsprop',\n",
        "    metrics=['accuracy']\n",
        ")\n",
        "\n",
        "model.summary()\n"
      ],
      "execution_count": 150,
      "outputs": [
        {
          "output_type": "stream",
          "text": [
            "Model: \"model_2\"\n",
            "_________________________________________________________________\n",
            "Layer (type)                 Output Shape              Param #   \n",
            "=================================================================\n",
            "input_2 (InputLayer)         (None, 14)                0         \n",
            "_________________________________________________________________\n",
            "m_embedding (Embedding)      (None, 14, 100)           877200    \n",
            "_________________________________________________________________\n",
            "embedding_average (Lambda)   (None, 100)               0         \n",
            "_________________________________________________________________\n",
            "dense_4 (Dense)              (None, 100)               10100     \n",
            "_________________________________________________________________\n",
            "dropout_3 (Dropout)          (None, 100)               0         \n",
            "_________________________________________________________________\n",
            "dense_5 (Dense)              (None, 100)               10100     \n",
            "_________________________________________________________________\n",
            "dropout_4 (Dropout)          (None, 100)               0         \n",
            "_________________________________________________________________\n",
            "dense_6 (Dense)              (None, 2)                 202       \n",
            "=================================================================\n",
            "Total params: 897,602\n",
            "Trainable params: 897,602\n",
            "Non-trainable params: 0\n",
            "_________________________________________________________________\n"
          ],
          "name": "stdout"
        }
      ]
    },
    {
      "cell_type": "code",
      "metadata": {
        "id": "zJRx61LHphMh",
        "colab_type": "code",
        "colab": {
          "base_uri": "https://localhost:8080/",
          "height": 1000
        },
        "outputId": "ec02ff81-a97e-42b1-a4e9-1eec5179da76"
      },
      "source": [
        "model.fit(splits['train'][0], splits['train'][1], epochs=115, batch_size=16)"
      ],
      "execution_count": 151,
      "outputs": [
        {
          "output_type": "stream",
          "text": [
            "Epoch 1/115\n",
            "3477/3477 [==============================] - 3s 756us/step - loss: 0.5991 - acc: 0.7124\n",
            "Epoch 2/115\n",
            "3477/3477 [==============================] - 2s 673us/step - loss: 0.5319 - acc: 0.7225\n",
            "Epoch 3/115\n",
            "3477/3477 [==============================] - 2s 698us/step - loss: 0.4765 - acc: 0.7820\n",
            "Epoch 4/115\n",
            "3477/3477 [==============================] - 2s 706us/step - loss: 0.4434 - acc: 0.7967\n",
            "Epoch 5/115\n",
            "3477/3477 [==============================] - 2s 690us/step - loss: 0.4136 - acc: 0.8223\n",
            "Epoch 6/115\n",
            "3477/3477 [==============================] - 2s 706us/step - loss: 0.4053 - acc: 0.8131\n",
            "Epoch 7/115\n",
            "3477/3477 [==============================] - 3s 729us/step - loss: 0.3876 - acc: 0.8263\n",
            "Epoch 8/115\n",
            "3477/3477 [==============================] - 2s 678us/step - loss: 0.3792 - acc: 0.8349\n",
            "Epoch 9/115\n",
            "3477/3477 [==============================] - 2s 657us/step - loss: 0.3718 - acc: 0.8335\n",
            "Epoch 10/115\n",
            "3477/3477 [==============================] - 2s 697us/step - loss: 0.3641 - acc: 0.8401\n",
            "Epoch 11/115\n",
            "3477/3477 [==============================] - 2s 702us/step - loss: 0.3626 - acc: 0.8424\n",
            "Epoch 12/115\n",
            "3477/3477 [==============================] - 2s 686us/step - loss: 0.3538 - acc: 0.8447\n",
            "Epoch 13/115\n",
            "3477/3477 [==============================] - 2s 667us/step - loss: 0.3504 - acc: 0.8484\n",
            "Epoch 14/115\n",
            "3477/3477 [==============================] - 2s 668us/step - loss: 0.3448 - acc: 0.8487\n",
            "Epoch 15/115\n",
            "3477/3477 [==============================] - 2s 705us/step - loss: 0.3414 - acc: 0.8527\n",
            "Epoch 16/115\n",
            "3477/3477 [==============================] - 3s 725us/step - loss: 0.3414 - acc: 0.8553\n",
            "Epoch 17/115\n",
            "3477/3477 [==============================] - 2s 688us/step - loss: 0.3314 - acc: 0.8634\n",
            "Epoch 18/115\n",
            "3477/3477 [==============================] - 3s 719us/step - loss: 0.3159 - acc: 0.8634\n",
            "Epoch 19/115\n",
            "3477/3477 [==============================] - 2s 709us/step - loss: 0.3248 - acc: 0.8657\n",
            "Epoch 20/115\n",
            "3477/3477 [==============================] - 2s 704us/step - loss: 0.3132 - acc: 0.8691\n",
            "Epoch 21/115\n",
            "3477/3477 [==============================] - 2s 684us/step - loss: 0.3128 - acc: 0.8703\n",
            "Epoch 22/115\n",
            "3477/3477 [==============================] - 3s 758us/step - loss: 0.2989 - acc: 0.8671\n",
            "Epoch 23/115\n",
            "3477/3477 [==============================] - 2s 680us/step - loss: 0.3021 - acc: 0.8755\n",
            "Epoch 24/115\n",
            "3477/3477 [==============================] - 3s 749us/step - loss: 0.2878 - acc: 0.8778\n",
            "Epoch 25/115\n",
            "3477/3477 [==============================] - 3s 734us/step - loss: 0.2866 - acc: 0.8824\n",
            "Epoch 26/115\n",
            "3477/3477 [==============================] - 2s 688us/step - loss: 0.2859 - acc: 0.8795\n",
            "Epoch 27/115\n",
            "3477/3477 [==============================] - 2s 686us/step - loss: 0.2738 - acc: 0.8875\n",
            "Epoch 28/115\n",
            "3477/3477 [==============================] - 2s 710us/step - loss: 0.2646 - acc: 0.8913\n",
            "Epoch 29/115\n",
            "3477/3477 [==============================] - 2s 702us/step - loss: 0.2631 - acc: 0.8913\n",
            "Epoch 30/115\n",
            "3477/3477 [==============================] - 2s 694us/step - loss: 0.2625 - acc: 0.8913\n",
            "Epoch 31/115\n",
            "3477/3477 [==============================] - 3s 719us/step - loss: 0.2541 - acc: 0.8993\n",
            "Epoch 32/115\n",
            "3477/3477 [==============================] - 2s 690us/step - loss: 0.2428 - acc: 0.8930\n",
            "Epoch 33/115\n",
            "3477/3477 [==============================] - 2s 659us/step - loss: 0.2414 - acc: 0.8991\n",
            "Epoch 34/115\n",
            "3477/3477 [==============================] - 2s 656us/step - loss: 0.2475 - acc: 0.9016\n",
            "Epoch 35/115\n",
            "3477/3477 [==============================] - 2s 690us/step - loss: 0.2324 - acc: 0.9068\n",
            "Epoch 36/115\n",
            "3477/3477 [==============================] - 2s 686us/step - loss: 0.2370 - acc: 0.8999\n",
            "Epoch 37/115\n",
            "3477/3477 [==============================] - 2s 674us/step - loss: 0.2188 - acc: 0.9080\n",
            "Epoch 38/115\n",
            "3477/3477 [==============================] - 2s 660us/step - loss: 0.2220 - acc: 0.9091\n",
            "Epoch 39/115\n",
            "3477/3477 [==============================] - 2s 660us/step - loss: 0.2268 - acc: 0.9083\n",
            "Epoch 40/115\n",
            "3477/3477 [==============================] - 2s 683us/step - loss: 0.2206 - acc: 0.9143\n",
            "Epoch 41/115\n",
            "3477/3477 [==============================] - 2s 695us/step - loss: 0.2187 - acc: 0.9163\n",
            "Epoch 42/115\n",
            "3477/3477 [==============================] - 2s 675us/step - loss: 0.1975 - acc: 0.9149\n",
            "Epoch 43/115\n",
            "3477/3477 [==============================] - 3s 725us/step - loss: 0.2082 - acc: 0.9177\n",
            "Epoch 44/115\n",
            "3477/3477 [==============================] - 3s 736us/step - loss: 0.2014 - acc: 0.9200\n",
            "Epoch 45/115\n",
            "3477/3477 [==============================] - 3s 747us/step - loss: 0.1988 - acc: 0.9140\n",
            "Epoch 46/115\n",
            "3477/3477 [==============================] - 3s 722us/step - loss: 0.1905 - acc: 0.9223\n",
            "Epoch 47/115\n",
            "3477/3477 [==============================] - 2s 688us/step - loss: 0.1883 - acc: 0.9226\n",
            "Epoch 48/115\n",
            "3477/3477 [==============================] - 2s 674us/step - loss: 0.1909 - acc: 0.9255\n",
            "Epoch 49/115\n",
            "3477/3477 [==============================] - 2s 690us/step - loss: 0.1734 - acc: 0.9246\n",
            "Epoch 50/115\n",
            "3477/3477 [==============================] - 2s 643us/step - loss: 0.1726 - acc: 0.9281\n",
            "Epoch 51/115\n",
            "3477/3477 [==============================] - 2s 637us/step - loss: 0.1749 - acc: 0.9235\n",
            "Epoch 52/115\n",
            "3477/3477 [==============================] - 2s 671us/step - loss: 0.1739 - acc: 0.9261\n",
            "Epoch 53/115\n",
            "3477/3477 [==============================] - 2s 685us/step - loss: 0.1754 - acc: 0.9275\n",
            "Epoch 54/115\n",
            "3477/3477 [==============================] - 2s 697us/step - loss: 0.1716 - acc: 0.9298\n",
            "Epoch 55/115\n",
            "3477/3477 [==============================] - 2s 682us/step - loss: 0.1677 - acc: 0.9301\n",
            "Epoch 56/115\n",
            "3477/3477 [==============================] - 2s 702us/step - loss: 0.1666 - acc: 0.9347\n",
            "Epoch 57/115\n",
            "3477/3477 [==============================] - 2s 688us/step - loss: 0.1668 - acc: 0.9364\n",
            "Epoch 58/115\n",
            "3477/3477 [==============================] - 2s 661us/step - loss: 0.1623 - acc: 0.9327\n",
            "Epoch 59/115\n",
            "3477/3477 [==============================] - 2s 666us/step - loss: 0.1647 - acc: 0.9376\n",
            "Epoch 60/115\n",
            "3477/3477 [==============================] - 2s 667us/step - loss: 0.1572 - acc: 0.9370\n",
            "Epoch 61/115\n",
            "3477/3477 [==============================] - 2s 691us/step - loss: 0.1652 - acc: 0.9350\n",
            "Epoch 62/115\n",
            "3477/3477 [==============================] - 2s 700us/step - loss: 0.1558 - acc: 0.9419\n",
            "Epoch 63/115\n",
            "3477/3477 [==============================] - 2s 676us/step - loss: 0.1562 - acc: 0.9373\n",
            "Epoch 64/115\n",
            "3477/3477 [==============================] - 2s 668us/step - loss: 0.1526 - acc: 0.9379\n",
            "Epoch 65/115\n",
            "3477/3477 [==============================] - 2s 676us/step - loss: 0.1542 - acc: 0.9379\n",
            "Epoch 66/115\n",
            "3477/3477 [==============================] - 2s 684us/step - loss: 0.1584 - acc: 0.9431\n",
            "Epoch 67/115\n",
            "3477/3477 [==============================] - 2s 669us/step - loss: 0.1396 - acc: 0.9456\n",
            "Epoch 68/115\n",
            "3477/3477 [==============================] - 2s 668us/step - loss: 0.1489 - acc: 0.9408\n",
            "Epoch 69/115\n",
            "3477/3477 [==============================] - 2s 679us/step - loss: 0.1474 - acc: 0.9393\n",
            "Epoch 70/115\n",
            "3477/3477 [==============================] - 2s 665us/step - loss: 0.1590 - acc: 0.9433\n",
            "Epoch 71/115\n",
            "3477/3477 [==============================] - 2s 686us/step - loss: 0.1414 - acc: 0.9477\n",
            "Epoch 72/115\n",
            "3477/3477 [==============================] - 2s 670us/step - loss: 0.1387 - acc: 0.9462\n",
            "Epoch 73/115\n",
            "3477/3477 [==============================] - 2s 669us/step - loss: 0.1437 - acc: 0.9451\n",
            "Epoch 74/115\n",
            "3477/3477 [==============================] - 2s 669us/step - loss: 0.1512 - acc: 0.9399\n",
            "Epoch 75/115\n",
            "3477/3477 [==============================] - 2s 658us/step - loss: 0.1389 - acc: 0.9445\n",
            "Epoch 76/115\n",
            "3477/3477 [==============================] - 2s 631us/step - loss: 0.1317 - acc: 0.9477\n",
            "Epoch 77/115\n",
            "3477/3477 [==============================] - 2s 635us/step - loss: 0.1263 - acc: 0.9479\n",
            "Epoch 78/115\n",
            "3477/3477 [==============================] - 2s 660us/step - loss: 0.1375 - acc: 0.9465\n",
            "Epoch 79/115\n",
            "3477/3477 [==============================] - 2s 676us/step - loss: 0.1407 - acc: 0.9459\n",
            "Epoch 80/115\n",
            "3477/3477 [==============================] - 2s 667us/step - loss: 0.1239 - acc: 0.9502\n",
            "Epoch 81/115\n",
            "3477/3477 [==============================] - 2s 668us/step - loss: 0.1258 - acc: 0.9477\n",
            "Epoch 82/115\n",
            "3477/3477 [==============================] - 2s 678us/step - loss: 0.1291 - acc: 0.9479\n",
            "Epoch 83/115\n",
            "3477/3477 [==============================] - 2s 664us/step - loss: 0.1241 - acc: 0.9502\n",
            "Epoch 84/115\n",
            "3477/3477 [==============================] - 2s 640us/step - loss: 0.1312 - acc: 0.9514\n",
            "Epoch 85/115\n",
            "3477/3477 [==============================] - 2s 661us/step - loss: 0.1330 - acc: 0.9497\n",
            "Epoch 86/115\n",
            "3477/3477 [==============================] - 2s 665us/step - loss: 0.1237 - acc: 0.9485\n",
            "Epoch 87/115\n",
            "3477/3477 [==============================] - 2s 674us/step - loss: 0.1370 - acc: 0.9462\n",
            "Epoch 88/115\n",
            "3477/3477 [==============================] - 2s 661us/step - loss: 0.1178 - acc: 0.9517\n",
            "Epoch 89/115\n",
            "3477/3477 [==============================] - 2s 660us/step - loss: 0.1284 - acc: 0.9560\n",
            "Epoch 90/115\n",
            "3477/3477 [==============================] - 2s 649us/step - loss: 0.1136 - acc: 0.9554\n",
            "Epoch 91/115\n",
            "3477/3477 [==============================] - 2s 669us/step - loss: 0.1245 - acc: 0.9528\n",
            "Epoch 92/115\n",
            "3477/3477 [==============================] - 2s 674us/step - loss: 0.1140 - acc: 0.9534\n",
            "Epoch 93/115\n",
            "3477/3477 [==============================] - 2s 658us/step - loss: 0.1126 - acc: 0.9537\n",
            "Epoch 94/115\n",
            "3477/3477 [==============================] - 2s 682us/step - loss: 0.1235 - acc: 0.9525\n",
            "Epoch 95/115\n",
            "3477/3477 [==============================] - 2s 680us/step - loss: 0.1157 - acc: 0.9560\n",
            "Epoch 96/115\n",
            "3477/3477 [==============================] - 2s 669us/step - loss: 0.1309 - acc: 0.9505\n",
            "Epoch 97/115\n",
            "3477/3477 [==============================] - 2s 669us/step - loss: 0.1220 - acc: 0.9569\n",
            "Epoch 98/115\n",
            "3477/3477 [==============================] - 2s 684us/step - loss: 0.1175 - acc: 0.9525\n",
            "Epoch 99/115\n",
            "3477/3477 [==============================] - 2s 667us/step - loss: 0.1155 - acc: 0.9563\n",
            "Epoch 100/115\n",
            "3477/3477 [==============================] - 2s 659us/step - loss: 0.1230 - acc: 0.9534\n",
            "Epoch 101/115\n",
            "3477/3477 [==============================] - 2s 660us/step - loss: 0.1114 - acc: 0.9569\n",
            "Epoch 102/115\n",
            "3477/3477 [==============================] - 2s 632us/step - loss: 0.1252 - acc: 0.9537\n",
            "Epoch 103/115\n",
            "3477/3477 [==============================] - 2s 639us/step - loss: 0.1044 - acc: 0.9577\n",
            "Epoch 104/115\n",
            "3477/3477 [==============================] - 2s 666us/step - loss: 0.1198 - acc: 0.9548\n",
            "Epoch 105/115\n",
            "3477/3477 [==============================] - 2s 667us/step - loss: 0.1152 - acc: 0.9566\n",
            "Epoch 106/115\n",
            "3477/3477 [==============================] - 2s 648us/step - loss: 0.1249 - acc: 0.9551\n",
            "Epoch 107/115\n",
            "3477/3477 [==============================] - 2s 657us/step - loss: 0.1175 - acc: 0.9548\n",
            "Epoch 108/115\n",
            "3477/3477 [==============================] - 2s 658us/step - loss: 0.1250 - acc: 0.9557\n",
            "Epoch 109/115\n",
            "3477/3477 [==============================] - 2s 636us/step - loss: 0.1092 - acc: 0.9546\n",
            "Epoch 110/115\n",
            "3477/3477 [==============================] - 2s 610us/step - loss: 0.1098 - acc: 0.9586\n",
            "Epoch 111/115\n",
            "3477/3477 [==============================] - 2s 618us/step - loss: 0.1167 - acc: 0.9557\n",
            "Epoch 112/115\n",
            "3477/3477 [==============================] - 2s 648us/step - loss: 0.1031 - acc: 0.9534\n",
            "Epoch 113/115\n",
            "3477/3477 [==============================] - 2s 646us/step - loss: 0.1164 - acc: 0.9563\n",
            "Epoch 114/115\n",
            "3477/3477 [==============================] - 2s 642us/step - loss: 0.0995 - acc: 0.9586\n",
            "Epoch 115/115\n",
            "3477/3477 [==============================] - 2s 637us/step - loss: 0.0979 - acc: 0.9566\n"
          ],
          "name": "stdout"
        },
        {
          "output_type": "execute_result",
          "data": {
            "text/plain": [
              "<keras.callbacks.History at 0x7f0ec0cfe748>"
            ]
          },
          "metadata": {
            "tags": []
          },
          "execution_count": 151
        }
      ]
    },
    {
      "cell_type": "code",
      "metadata": {
        "id": "cV606h_Kqp48",
        "colab_type": "code",
        "outputId": "37d37052-26ee-46c7-ecff-6d0582f4ddce",
        "colab": {
          "base_uri": "https://localhost:8080/",
          "height": 52
        }
      },
      "source": [
        "model.evaluate(splits['test'][0], splits['test'][1])"
      ],
      "execution_count": 152,
      "outputs": [
        {
          "output_type": "stream",
          "text": [
            "870/870 [==============================] - 0s 128us/step\n"
          ],
          "name": "stdout"
        },
        {
          "output_type": "execute_result",
          "data": {
            "text/plain": [
              "[1.890613648997775, 0.7494252873563219]"
            ]
          },
          "metadata": {
            "tags": []
          },
          "execution_count": 152
        }
      ]
    },
    {
      "cell_type": "markdown",
      "metadata": {
        "id": "9RZo5PfXktHi",
        "colab_type": "text"
      },
      "source": [
        "Confusion Matrix"
      ]
    },
    {
      "cell_type": "code",
      "metadata": {
        "id": "KyYAuMFueOId",
        "colab_type": "code",
        "colab": {}
      },
      "source": [
        "y_pred = model.predict(splits['test'][0])\n",
        "y_pred = (y_pred > 0.5) #greater than 0.50 on scale 0 to 1\n",
        "print(y_pred)\n",
        "\n",
        "#Making confusion matrix that checks accuracy of the model\n",
        "#rounded_labels=np.argmax(test_labels, axis=1)\n",
        "from sklearn.metrics import confusion_matrix\n",
        "cm = confusion_matrix(splits['test'][1], y_pred)"
      ],
      "execution_count": 0,
      "outputs": []
    },
    {
      "cell_type": "code",
      "metadata": {
        "id": "2LqFrxrdZ6dH",
        "colab_type": "code",
        "colab": {}
      },
      "source": [
        "#No soy capaz de ponerlo en marcha, estoy en un bucle. Lo dejo para más adelante a ver si veo como conseguirlo."
      ],
      "execution_count": 0,
      "outputs": []
    },
    {
      "cell_type": "code",
      "metadata": {
        "id": "3UgXMd7NEnlQ",
        "colab_type": "code",
        "colab": {}
      },
      "source": [
        ""
      ],
      "execution_count": 0,
      "outputs": []
    },
    {
      "cell_type": "code",
      "metadata": {
        "id": "29t3aA3YEnuG",
        "colab_type": "code",
        "colab": {}
      },
      "source": [
        ""
      ],
      "execution_count": 0,
      "outputs": []
    },
    {
      "cell_type": "code",
      "metadata": {
        "id": "roC9NkOTEn3F",
        "colab_type": "code",
        "colab": {}
      },
      "source": [
        ""
      ],
      "execution_count": 0,
      "outputs": []
    }
  ]
}